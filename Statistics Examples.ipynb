{
 "cells": [
  {
   "cell_type": "code",
   "execution_count": 23,
   "id": "7193df90",
   "metadata": {},
   "outputs": [],
   "source": [
    "import pandas as pd"
   ]
  },
  {
   "cell_type": "code",
   "execution_count": 24,
   "id": "c625bc1f",
   "metadata": {},
   "outputs": [],
   "source": [
    "data = pd.read_csv(\"startup_funding.csv\")"
   ]
  },
  {
   "cell_type": "code",
   "execution_count": 25,
   "id": "3baefd00",
   "metadata": {},
   "outputs": [
    {
     "data": {
      "text/html": [
       "<div>\n",
       "<style scoped>\n",
       "    .dataframe tbody tr th:only-of-type {\n",
       "        vertical-align: middle;\n",
       "    }\n",
       "\n",
       "    .dataframe tbody tr th {\n",
       "        vertical-align: top;\n",
       "    }\n",
       "\n",
       "    .dataframe thead th {\n",
       "        text-align: right;\n",
       "    }\n",
       "</style>\n",
       "<table border=\"1\" class=\"dataframe\">\n",
       "  <thead>\n",
       "    <tr style=\"text-align: right;\">\n",
       "      <th></th>\n",
       "      <th>SNo</th>\n",
       "      <th>Date</th>\n",
       "      <th>StartupName</th>\n",
       "      <th>IndustryVertical</th>\n",
       "      <th>SubVertical</th>\n",
       "      <th>CityLocation</th>\n",
       "      <th>InvestorsName</th>\n",
       "      <th>InvestmentType</th>\n",
       "      <th>AmountInUSD</th>\n",
       "      <th>Remarks</th>\n",
       "    </tr>\n",
       "  </thead>\n",
       "  <tbody>\n",
       "    <tr>\n",
       "      <th>0</th>\n",
       "      <td>0</td>\n",
       "      <td>01/08/2017</td>\n",
       "      <td>TouchKin</td>\n",
       "      <td>Technology</td>\n",
       "      <td>Predictive Care Platform</td>\n",
       "      <td>Bangalore</td>\n",
       "      <td>Kae Capital</td>\n",
       "      <td>Private Equity</td>\n",
       "      <td>1,300,000</td>\n",
       "      <td>NaN</td>\n",
       "    </tr>\n",
       "    <tr>\n",
       "      <th>1</th>\n",
       "      <td>1</td>\n",
       "      <td>02/08/2017</td>\n",
       "      <td>Ethinos</td>\n",
       "      <td>Technology</td>\n",
       "      <td>Digital Marketing Agency</td>\n",
       "      <td>Mumbai</td>\n",
       "      <td>Triton Investment Advisors</td>\n",
       "      <td>Private Equity</td>\n",
       "      <td>NaN</td>\n",
       "      <td>NaN</td>\n",
       "    </tr>\n",
       "    <tr>\n",
       "      <th>2</th>\n",
       "      <td>2</td>\n",
       "      <td>02/08/2017</td>\n",
       "      <td>Leverage Edu</td>\n",
       "      <td>Consumer Internet</td>\n",
       "      <td>Online platform for Higher Education Services</td>\n",
       "      <td>New Delhi</td>\n",
       "      <td>Kashyap Deorah, Anand Sankeshwar, Deepak Jain,...</td>\n",
       "      <td>Seed Funding</td>\n",
       "      <td>NaN</td>\n",
       "      <td>NaN</td>\n",
       "    </tr>\n",
       "    <tr>\n",
       "      <th>3</th>\n",
       "      <td>3</td>\n",
       "      <td>02/08/2017</td>\n",
       "      <td>Zepo</td>\n",
       "      <td>Consumer Internet</td>\n",
       "      <td>DIY Ecommerce platform</td>\n",
       "      <td>Mumbai</td>\n",
       "      <td>Kunal Shah, LetsVenture, Anupam Mittal, Hetal ...</td>\n",
       "      <td>Seed Funding</td>\n",
       "      <td>500,000</td>\n",
       "      <td>NaN</td>\n",
       "    </tr>\n",
       "    <tr>\n",
       "      <th>4</th>\n",
       "      <td>4</td>\n",
       "      <td>02/08/2017</td>\n",
       "      <td>Click2Clinic</td>\n",
       "      <td>Consumer Internet</td>\n",
       "      <td>healthcare service aggregator</td>\n",
       "      <td>Hyderabad</td>\n",
       "      <td>Narottam Thudi, Shireesh Palle</td>\n",
       "      <td>Seed Funding</td>\n",
       "      <td>850,000</td>\n",
       "      <td>NaN</td>\n",
       "    </tr>\n",
       "    <tr>\n",
       "      <th>...</th>\n",
       "      <td>...</td>\n",
       "      <td>...</td>\n",
       "      <td>...</td>\n",
       "      <td>...</td>\n",
       "      <td>...</td>\n",
       "      <td>...</td>\n",
       "      <td>...</td>\n",
       "      <td>...</td>\n",
       "      <td>...</td>\n",
       "      <td>...</td>\n",
       "    </tr>\n",
       "    <tr>\n",
       "      <th>2367</th>\n",
       "      <td>2367</td>\n",
       "      <td>29/01/2015</td>\n",
       "      <td>Printvenue</td>\n",
       "      <td>NaN</td>\n",
       "      <td>NaN</td>\n",
       "      <td>NaN</td>\n",
       "      <td>Asia Pacific Internet Group</td>\n",
       "      <td>Private Equity</td>\n",
       "      <td>4,500,000</td>\n",
       "      <td>NaN</td>\n",
       "    </tr>\n",
       "    <tr>\n",
       "      <th>2368</th>\n",
       "      <td>2368</td>\n",
       "      <td>29/01/2015</td>\n",
       "      <td>Graphene</td>\n",
       "      <td>NaN</td>\n",
       "      <td>NaN</td>\n",
       "      <td>NaN</td>\n",
       "      <td>KARSEMVEN Fund</td>\n",
       "      <td>Private Equity</td>\n",
       "      <td>825,000</td>\n",
       "      <td>Govt backed VC Fund</td>\n",
       "    </tr>\n",
       "    <tr>\n",
       "      <th>2369</th>\n",
       "      <td>2369</td>\n",
       "      <td>30/01/2015</td>\n",
       "      <td>Mad Street Den</td>\n",
       "      <td>NaN</td>\n",
       "      <td>NaN</td>\n",
       "      <td>NaN</td>\n",
       "      <td>Exfinity Fund, GrowX Ventures.</td>\n",
       "      <td>Private Equity</td>\n",
       "      <td>1,500,000</td>\n",
       "      <td>NaN</td>\n",
       "    </tr>\n",
       "    <tr>\n",
       "      <th>2370</th>\n",
       "      <td>2370</td>\n",
       "      <td>30/01/2015</td>\n",
       "      <td>Simplotel</td>\n",
       "      <td>NaN</td>\n",
       "      <td>NaN</td>\n",
       "      <td>NaN</td>\n",
       "      <td>MakeMyTrip</td>\n",
       "      <td>Private Equity</td>\n",
       "      <td>NaN</td>\n",
       "      <td>Strategic Funding, Minority stake</td>\n",
       "    </tr>\n",
       "    <tr>\n",
       "      <th>2371</th>\n",
       "      <td>2371</td>\n",
       "      <td>31/01/2015</td>\n",
       "      <td>couponmachine.in</td>\n",
       "      <td>NaN</td>\n",
       "      <td>NaN</td>\n",
       "      <td>NaN</td>\n",
       "      <td>UK based Group of Angel Investors</td>\n",
       "      <td>Seed Funding</td>\n",
       "      <td>140,000</td>\n",
       "      <td>NaN</td>\n",
       "    </tr>\n",
       "  </tbody>\n",
       "</table>\n",
       "<p>2372 rows × 10 columns</p>\n",
       "</div>"
      ],
      "text/plain": [
       "       SNo        Date       StartupName   IndustryVertical  \\\n",
       "0        0  01/08/2017          TouchKin         Technology   \n",
       "1        1  02/08/2017           Ethinos         Technology   \n",
       "2        2  02/08/2017      Leverage Edu  Consumer Internet   \n",
       "3        3  02/08/2017              Zepo  Consumer Internet   \n",
       "4        4  02/08/2017      Click2Clinic  Consumer Internet   \n",
       "...    ...         ...               ...                ...   \n",
       "2367  2367  29/01/2015        Printvenue                NaN   \n",
       "2368  2368  29/01/2015          Graphene                NaN   \n",
       "2369  2369  30/01/2015    Mad Street Den                NaN   \n",
       "2370  2370  30/01/2015         Simplotel                NaN   \n",
       "2371  2371  31/01/2015  couponmachine.in                NaN   \n",
       "\n",
       "                                        SubVertical CityLocation  \\\n",
       "0                          Predictive Care Platform    Bangalore   \n",
       "1                          Digital Marketing Agency       Mumbai   \n",
       "2     Online platform for Higher Education Services    New Delhi   \n",
       "3                            DIY Ecommerce platform       Mumbai   \n",
       "4                     healthcare service aggregator    Hyderabad   \n",
       "...                                             ...          ...   \n",
       "2367                                            NaN          NaN   \n",
       "2368                                            NaN          NaN   \n",
       "2369                                            NaN          NaN   \n",
       "2370                                            NaN          NaN   \n",
       "2371                                            NaN          NaN   \n",
       "\n",
       "                                          InvestorsName  InvestmentType  \\\n",
       "0                                           Kae Capital  Private Equity   \n",
       "1                            Triton Investment Advisors  Private Equity   \n",
       "2     Kashyap Deorah, Anand Sankeshwar, Deepak Jain,...    Seed Funding   \n",
       "3     Kunal Shah, LetsVenture, Anupam Mittal, Hetal ...    Seed Funding   \n",
       "4                        Narottam Thudi, Shireesh Palle    Seed Funding   \n",
       "...                                                 ...             ...   \n",
       "2367                        Asia Pacific Internet Group  Private Equity   \n",
       "2368                                     KARSEMVEN Fund  Private Equity   \n",
       "2369                     Exfinity Fund, GrowX Ventures.  Private Equity   \n",
       "2370                                         MakeMyTrip  Private Equity   \n",
       "2371                  UK based Group of Angel Investors    Seed Funding   \n",
       "\n",
       "     AmountInUSD                            Remarks  \n",
       "0      1,300,000                                NaN  \n",
       "1            NaN                                NaN  \n",
       "2            NaN                                NaN  \n",
       "3        500,000                                NaN  \n",
       "4        850,000                                NaN  \n",
       "...          ...                                ...  \n",
       "2367   4,500,000                                NaN  \n",
       "2368     825,000                Govt backed VC Fund  \n",
       "2369   1,500,000                                NaN  \n",
       "2370         NaN  Strategic Funding, Minority stake  \n",
       "2371     140,000                                NaN  \n",
       "\n",
       "[2372 rows x 10 columns]"
      ]
     },
     "execution_count": 25,
     "metadata": {},
     "output_type": "execute_result"
    }
   ],
   "source": [
    "data"
   ]
  },
  {
   "cell_type": "code",
   "execution_count": 4,
   "id": "96068cb7",
   "metadata": {},
   "outputs": [
    {
     "name": "stdout",
     "output_type": "stream",
     "text": [
      "<class 'pandas.core.frame.DataFrame'>\n",
      "RangeIndex: 2372 entries, 0 to 2371\n",
      "Data columns (total 10 columns):\n",
      " #   Column            Non-Null Count  Dtype \n",
      "---  ------            --------------  ----- \n",
      " 0   SNo               2372 non-null   int64 \n",
      " 1   Date              2372 non-null   object\n",
      " 2   StartupName       2372 non-null   object\n",
      " 3   IndustryVertical  2201 non-null   object\n",
      " 4   SubVertical       1436 non-null   object\n",
      " 5   CityLocation      2193 non-null   object\n",
      " 6   InvestorsName     2364 non-null   object\n",
      " 7   InvestmentType    2371 non-null   object\n",
      " 8   AmountInUSD       1525 non-null   object\n",
      " 9   Remarks           419 non-null    object\n",
      "dtypes: int64(1), object(9)\n",
      "memory usage: 185.4+ KB\n"
     ]
    }
   ],
   "source": [
    "data.info()"
   ]
  },
  {
   "cell_type": "code",
   "execution_count": 6,
   "id": "24bc19f5",
   "metadata": {},
   "outputs": [
    {
     "data": {
      "text/plain": [
       "0     1,300,000\n",
       "1           NaN\n",
       "2           NaN\n",
       "3       500,000\n",
       "4       850,000\n",
       "5     1,000,000\n",
       "6     2,600,000\n",
       "7    20,000,000\n",
       "8     8,500,000\n",
       "9    12,000,000\n",
       "Name: AmountInUSD, dtype: object"
      ]
     },
     "execution_count": 6,
     "metadata": {},
     "output_type": "execute_result"
    }
   ],
   "source": [
    "amount = data['AmountInUSD']\n",
    "amount.head(10)"
   ]
  },
  {
   "cell_type": "code",
   "execution_count": 7,
   "id": "568169af",
   "metadata": {},
   "outputs": [],
   "source": [
    "amount.dropna(inplace=True)"
   ]
  },
  {
   "cell_type": "code",
   "execution_count": 8,
   "id": "de34c062",
   "metadata": {},
   "outputs": [
    {
     "data": {
      "text/plain": [
       "0    1300000\n",
       "3     500000\n",
       "4     850000\n",
       "5    1000000\n",
       "6    2600000\n",
       "Name: AmountInUSD, dtype: object"
      ]
     },
     "execution_count": 8,
     "metadata": {},
     "output_type": "execute_result"
    }
   ],
   "source": [
    "amount_new = amount.str.replace(',', '')\n",
    "amount_new.head()"
   ]
  },
  {
   "cell_type": "code",
   "execution_count": 9,
   "id": "622f1926",
   "metadata": {},
   "outputs": [],
   "source": [
    "amount_int = pd.to_numeric(amount_new)"
   ]
  },
  {
   "cell_type": "code",
   "execution_count": 10,
   "id": "d9155d81",
   "metadata": {},
   "outputs": [
    {
     "data": {
      "text/plain": [
       "0    1300000\n",
       "3     500000\n",
       "4     850000\n",
       "5    1000000\n",
       "6    2600000\n",
       "Name: AmountInUSD, dtype: int64"
      ]
     },
     "execution_count": 10,
     "metadata": {},
     "output_type": "execute_result"
    }
   ],
   "source": [
    "amount_int.head()"
   ]
  },
  {
   "cell_type": "code",
   "execution_count": 19,
   "id": "43d5bde6",
   "metadata": {},
   "outputs": [],
   "source": [
    "pop_avg = amount_int.mean()\n",
    "pop_min = amount_int.min()\n",
    "pop_max = amount_int.max()"
   ]
  },
  {
   "cell_type": "code",
   "execution_count": 20,
   "id": "272fb271",
   "metadata": {},
   "outputs": [
    {
     "data": {
      "text/plain": [
       "12031073.099016393"
      ]
     },
     "execution_count": 20,
     "metadata": {},
     "output_type": "execute_result"
    }
   ],
   "source": [
    "pop_avg"
   ]
  },
  {
   "cell_type": "code",
   "execution_count": 21,
   "id": "411d6ed3",
   "metadata": {},
   "outputs": [],
   "source": [
    "population = amount_int\n",
    "sample_size = 100\n",
    "sample = population.sample(sample_size)"
   ]
  },
  {
   "cell_type": "code",
   "execution_count": 22,
   "id": "009caa07",
   "metadata": {},
   "outputs": [],
   "source": [
    "sample_avg = sample.mean()\n",
    "sample_max = sample.max()\n",
    "sample_min = sample.min()"
   ]
  },
  {
   "cell_type": "code",
   "execution_count": 23,
   "id": "69167cb6",
   "metadata": {},
   "outputs": [
    {
     "data": {
      "text/plain": [
       "15884856.0"
      ]
     },
     "execution_count": 23,
     "metadata": {},
     "output_type": "execute_result"
    }
   ],
   "source": [
    "sample_avg"
   ]
  },
  {
   "cell_type": "code",
   "execution_count": 24,
   "id": "1bc3d7c8",
   "metadata": {},
   "outputs": [
    {
     "name": "stdout",
     "output_type": "stream",
     "text": [
      "12031073.099016393  vs  15884856.0\n",
      "16000  vs  16600\n",
      "1400000000  vs  400000000\n"
     ]
    }
   ],
   "source": [
    "print(pop_avg, \" vs \", sample_avg)\n",
    "print(pop_min, \" vs \", sample_min)\n",
    "print(pop_max, \" vs \", sample_max)"
   ]
  },
  {
   "cell_type": "code",
   "execution_count": 25,
   "id": "cc358625",
   "metadata": {},
   "outputs": [
    {
     "data": {
      "text/plain": [
       "-3853782.9009836074"
      ]
     },
     "execution_count": 25,
     "metadata": {},
     "output_type": "execute_result"
    }
   ],
   "source": [
    "pop_avg - sample_avg"
   ]
  },
  {
   "cell_type": "markdown",
   "id": "d4bd0e39",
   "metadata": {},
   "source": [
    "**Sampling Error**\n",
    "\n",
    "A sampling error is a statistical error that occurs when an analyst does not select a sample that represents the entire population of data"
   ]
  },
  {
   "cell_type": "markdown",
   "id": "c10cf2bd",
   "metadata": {},
   "source": [
    "### Use of Mode values\n",
    "**Check for mode of the data and fill the null values in the `IndustryVertical` column with this mode data**"
   ]
  },
  {
   "cell_type": "code",
   "execution_count": 26,
   "id": "6e79d569",
   "metadata": {},
   "outputs": [
    {
     "data": {
      "text/html": [
       "<div>\n",
       "<style scoped>\n",
       "    .dataframe tbody tr th:only-of-type {\n",
       "        vertical-align: middle;\n",
       "    }\n",
       "\n",
       "    .dataframe tbody tr th {\n",
       "        vertical-align: top;\n",
       "    }\n",
       "\n",
       "    .dataframe thead th {\n",
       "        text-align: right;\n",
       "    }\n",
       "</style>\n",
       "<table border=\"1\" class=\"dataframe\">\n",
       "  <thead>\n",
       "    <tr style=\"text-align: right;\">\n",
       "      <th></th>\n",
       "      <th>SNo</th>\n",
       "      <th>Date</th>\n",
       "      <th>StartupName</th>\n",
       "      <th>IndustryVertical</th>\n",
       "      <th>SubVertical</th>\n",
       "      <th>CityLocation</th>\n",
       "      <th>InvestorsName</th>\n",
       "      <th>InvestmentType</th>\n",
       "      <th>AmountInUSD</th>\n",
       "      <th>Remarks</th>\n",
       "    </tr>\n",
       "  </thead>\n",
       "  <tbody>\n",
       "    <tr>\n",
       "      <th>0</th>\n",
       "      <td>0</td>\n",
       "      <td>01/08/2017</td>\n",
       "      <td>TouchKin</td>\n",
       "      <td>Technology</td>\n",
       "      <td>Predictive Care Platform</td>\n",
       "      <td>Bangalore</td>\n",
       "      <td>Kae Capital</td>\n",
       "      <td>Private Equity</td>\n",
       "      <td>1,300,000</td>\n",
       "      <td>NaN</td>\n",
       "    </tr>\n",
       "    <tr>\n",
       "      <th>1</th>\n",
       "      <td>1</td>\n",
       "      <td>02/08/2017</td>\n",
       "      <td>Ethinos</td>\n",
       "      <td>Technology</td>\n",
       "      <td>Digital Marketing Agency</td>\n",
       "      <td>Mumbai</td>\n",
       "      <td>Triton Investment Advisors</td>\n",
       "      <td>Private Equity</td>\n",
       "      <td>NaN</td>\n",
       "      <td>NaN</td>\n",
       "    </tr>\n",
       "    <tr>\n",
       "      <th>2</th>\n",
       "      <td>2</td>\n",
       "      <td>02/08/2017</td>\n",
       "      <td>Leverage Edu</td>\n",
       "      <td>Consumer Internet</td>\n",
       "      <td>Online platform for Higher Education Services</td>\n",
       "      <td>New Delhi</td>\n",
       "      <td>Kashyap Deorah, Anand Sankeshwar, Deepak Jain,...</td>\n",
       "      <td>Seed Funding</td>\n",
       "      <td>NaN</td>\n",
       "      <td>NaN</td>\n",
       "    </tr>\n",
       "    <tr>\n",
       "      <th>3</th>\n",
       "      <td>3</td>\n",
       "      <td>02/08/2017</td>\n",
       "      <td>Zepo</td>\n",
       "      <td>Consumer Internet</td>\n",
       "      <td>DIY Ecommerce platform</td>\n",
       "      <td>Mumbai</td>\n",
       "      <td>Kunal Shah, LetsVenture, Anupam Mittal, Hetal ...</td>\n",
       "      <td>Seed Funding</td>\n",
       "      <td>500,000</td>\n",
       "      <td>NaN</td>\n",
       "    </tr>\n",
       "    <tr>\n",
       "      <th>4</th>\n",
       "      <td>4</td>\n",
       "      <td>02/08/2017</td>\n",
       "      <td>Click2Clinic</td>\n",
       "      <td>Consumer Internet</td>\n",
       "      <td>healthcare service aggregator</td>\n",
       "      <td>Hyderabad</td>\n",
       "      <td>Narottam Thudi, Shireesh Palle</td>\n",
       "      <td>Seed Funding</td>\n",
       "      <td>850,000</td>\n",
       "      <td>NaN</td>\n",
       "    </tr>\n",
       "  </tbody>\n",
       "</table>\n",
       "</div>"
      ],
      "text/plain": [
       "   SNo        Date   StartupName   IndustryVertical  \\\n",
       "0    0  01/08/2017      TouchKin         Technology   \n",
       "1    1  02/08/2017       Ethinos         Technology   \n",
       "2    2  02/08/2017  Leverage Edu  Consumer Internet   \n",
       "3    3  02/08/2017          Zepo  Consumer Internet   \n",
       "4    4  02/08/2017  Click2Clinic  Consumer Internet   \n",
       "\n",
       "                                     SubVertical CityLocation  \\\n",
       "0                       Predictive Care Platform    Bangalore   \n",
       "1                       Digital Marketing Agency       Mumbai   \n",
       "2  Online platform for Higher Education Services    New Delhi   \n",
       "3                         DIY Ecommerce platform       Mumbai   \n",
       "4                  healthcare service aggregator    Hyderabad   \n",
       "\n",
       "                                       InvestorsName  InvestmentType  \\\n",
       "0                                        Kae Capital  Private Equity   \n",
       "1                         Triton Investment Advisors  Private Equity   \n",
       "2  Kashyap Deorah, Anand Sankeshwar, Deepak Jain,...    Seed Funding   \n",
       "3  Kunal Shah, LetsVenture, Anupam Mittal, Hetal ...    Seed Funding   \n",
       "4                     Narottam Thudi, Shireesh Palle    Seed Funding   \n",
       "\n",
       "  AmountInUSD Remarks  \n",
       "0   1,300,000     NaN  \n",
       "1         NaN     NaN  \n",
       "2         NaN     NaN  \n",
       "3     500,000     NaN  \n",
       "4     850,000     NaN  "
      ]
     },
     "execution_count": 26,
     "metadata": {},
     "output_type": "execute_result"
    }
   ],
   "source": [
    "data.head()"
   ]
  },
  {
   "cell_type": "code",
   "execution_count": null,
   "id": "47549a54",
   "metadata": {},
   "outputs": [],
   "source": [
    "0  Consumer Internet\n",
    "1  Technology"
   ]
  },
  {
   "cell_type": "code",
   "execution_count": 30,
   "id": "ed1eb453",
   "metadata": {},
   "outputs": [
    {
     "data": {
      "text/plain": [
       "Consumer Internet                                        772\n",
       "Technology                                               313\n",
       "eCommerce                                                171\n",
       "ECommerce                                                 53\n",
       "Healthcare                                                30\n",
       "                                                        ... \n",
       "Professional Health Services Platform                      1\n",
       "Digital Coupons, Deal & Cashback aggregator app            1\n",
       "Doctor Appointment booking app                             1\n",
       "Online Counselling and psychological support platform      1\n",
       "Health and Beauty Services Marketplace                     1\n",
       "Name: IndustryVertical, Length: 743, dtype: int64"
      ]
     },
     "execution_count": 30,
     "metadata": {},
     "output_type": "execute_result"
    }
   ],
   "source": [
    "data['IndustryVertical'].value_counts()"
   ]
  },
  {
   "cell_type": "code",
   "execution_count": 29,
   "id": "54e8f2cd",
   "metadata": {},
   "outputs": [
    {
     "data": {
      "text/plain": [
       "0    Consumer Internet\n",
       "dtype: object"
      ]
     },
     "execution_count": 29,
     "metadata": {},
     "output_type": "execute_result"
    }
   ],
   "source": [
    "data['IndustryVertical'].mode()"
   ]
  },
  {
   "cell_type": "code",
   "execution_count": 27,
   "id": "7eae546d",
   "metadata": {},
   "outputs": [
    {
     "data": {
      "text/plain": [
       "0    Seed Funding\n",
       "dtype: object"
      ]
     },
     "execution_count": 27,
     "metadata": {},
     "output_type": "execute_result"
    }
   ],
   "source": [
    "data['InvestmentType'].mode()"
   ]
  },
  {
   "cell_type": "code",
   "execution_count": 31,
   "id": "622f9dee",
   "metadata": {},
   "outputs": [
    {
     "data": {
      "text/html": [
       "<div>\n",
       "<style scoped>\n",
       "    .dataframe tbody tr th:only-of-type {\n",
       "        vertical-align: middle;\n",
       "    }\n",
       "\n",
       "    .dataframe tbody tr th {\n",
       "        vertical-align: top;\n",
       "    }\n",
       "\n",
       "    .dataframe thead th {\n",
       "        text-align: right;\n",
       "    }\n",
       "</style>\n",
       "<table border=\"1\" class=\"dataframe\">\n",
       "  <thead>\n",
       "    <tr style=\"text-align: right;\">\n",
       "      <th></th>\n",
       "      <th>SNo</th>\n",
       "      <th>Date</th>\n",
       "      <th>StartupName</th>\n",
       "      <th>IndustryVertical</th>\n",
       "      <th>SubVertical</th>\n",
       "      <th>CityLocation</th>\n",
       "      <th>InvestorsName</th>\n",
       "      <th>InvestmentType</th>\n",
       "      <th>AmountInUSD</th>\n",
       "      <th>Remarks</th>\n",
       "    </tr>\n",
       "  </thead>\n",
       "  <tbody>\n",
       "    <tr>\n",
       "      <th>0</th>\n",
       "      <td>0</td>\n",
       "      <td>01/08/2017</td>\n",
       "      <td>TouchKin</td>\n",
       "      <td>Technology</td>\n",
       "      <td>Predictive Care Platform</td>\n",
       "      <td>Bangalore</td>\n",
       "      <td>Kae Capital</td>\n",
       "      <td>Private Equity</td>\n",
       "      <td>1,300,000</td>\n",
       "      <td>NaN</td>\n",
       "    </tr>\n",
       "    <tr>\n",
       "      <th>1</th>\n",
       "      <td>1</td>\n",
       "      <td>02/08/2017</td>\n",
       "      <td>Ethinos</td>\n",
       "      <td>Technology</td>\n",
       "      <td>Digital Marketing Agency</td>\n",
       "      <td>Mumbai</td>\n",
       "      <td>Triton Investment Advisors</td>\n",
       "      <td>Private Equity</td>\n",
       "      <td>NaN</td>\n",
       "      <td>NaN</td>\n",
       "    </tr>\n",
       "    <tr>\n",
       "      <th>2</th>\n",
       "      <td>2</td>\n",
       "      <td>02/08/2017</td>\n",
       "      <td>Leverage Edu</td>\n",
       "      <td>Consumer Internet</td>\n",
       "      <td>Online platform for Higher Education Services</td>\n",
       "      <td>New Delhi</td>\n",
       "      <td>Kashyap Deorah, Anand Sankeshwar, Deepak Jain,...</td>\n",
       "      <td>Seed Funding</td>\n",
       "      <td>NaN</td>\n",
       "      <td>NaN</td>\n",
       "    </tr>\n",
       "    <tr>\n",
       "      <th>3</th>\n",
       "      <td>3</td>\n",
       "      <td>02/08/2017</td>\n",
       "      <td>Zepo</td>\n",
       "      <td>Consumer Internet</td>\n",
       "      <td>DIY Ecommerce platform</td>\n",
       "      <td>Mumbai</td>\n",
       "      <td>Kunal Shah, LetsVenture, Anupam Mittal, Hetal ...</td>\n",
       "      <td>Seed Funding</td>\n",
       "      <td>500,000</td>\n",
       "      <td>NaN</td>\n",
       "    </tr>\n",
       "    <tr>\n",
       "      <th>4</th>\n",
       "      <td>4</td>\n",
       "      <td>02/08/2017</td>\n",
       "      <td>Click2Clinic</td>\n",
       "      <td>Consumer Internet</td>\n",
       "      <td>healthcare service aggregator</td>\n",
       "      <td>Hyderabad</td>\n",
       "      <td>Narottam Thudi, Shireesh Palle</td>\n",
       "      <td>Seed Funding</td>\n",
       "      <td>850,000</td>\n",
       "      <td>NaN</td>\n",
       "    </tr>\n",
       "    <tr>\n",
       "      <th>...</th>\n",
       "      <td>...</td>\n",
       "      <td>...</td>\n",
       "      <td>...</td>\n",
       "      <td>...</td>\n",
       "      <td>...</td>\n",
       "      <td>...</td>\n",
       "      <td>...</td>\n",
       "      <td>...</td>\n",
       "      <td>...</td>\n",
       "      <td>...</td>\n",
       "    </tr>\n",
       "    <tr>\n",
       "      <th>2367</th>\n",
       "      <td>2367</td>\n",
       "      <td>29/01/2015</td>\n",
       "      <td>Printvenue</td>\n",
       "      <td>NaN</td>\n",
       "      <td>NaN</td>\n",
       "      <td>NaN</td>\n",
       "      <td>Asia Pacific Internet Group</td>\n",
       "      <td>Private Equity</td>\n",
       "      <td>4,500,000</td>\n",
       "      <td>NaN</td>\n",
       "    </tr>\n",
       "    <tr>\n",
       "      <th>2368</th>\n",
       "      <td>2368</td>\n",
       "      <td>29/01/2015</td>\n",
       "      <td>Graphene</td>\n",
       "      <td>NaN</td>\n",
       "      <td>NaN</td>\n",
       "      <td>NaN</td>\n",
       "      <td>KARSEMVEN Fund</td>\n",
       "      <td>Private Equity</td>\n",
       "      <td>825,000</td>\n",
       "      <td>Govt backed VC Fund</td>\n",
       "    </tr>\n",
       "    <tr>\n",
       "      <th>2369</th>\n",
       "      <td>2369</td>\n",
       "      <td>30/01/2015</td>\n",
       "      <td>Mad Street Den</td>\n",
       "      <td>NaN</td>\n",
       "      <td>NaN</td>\n",
       "      <td>NaN</td>\n",
       "      <td>Exfinity Fund, GrowX Ventures.</td>\n",
       "      <td>Private Equity</td>\n",
       "      <td>1,500,000</td>\n",
       "      <td>NaN</td>\n",
       "    </tr>\n",
       "    <tr>\n",
       "      <th>2370</th>\n",
       "      <td>2370</td>\n",
       "      <td>30/01/2015</td>\n",
       "      <td>Simplotel</td>\n",
       "      <td>NaN</td>\n",
       "      <td>NaN</td>\n",
       "      <td>NaN</td>\n",
       "      <td>MakeMyTrip</td>\n",
       "      <td>Private Equity</td>\n",
       "      <td>NaN</td>\n",
       "      <td>Strategic Funding, Minority stake</td>\n",
       "    </tr>\n",
       "    <tr>\n",
       "      <th>2371</th>\n",
       "      <td>2371</td>\n",
       "      <td>31/01/2015</td>\n",
       "      <td>couponmachine.in</td>\n",
       "      <td>NaN</td>\n",
       "      <td>NaN</td>\n",
       "      <td>NaN</td>\n",
       "      <td>UK based Group of Angel Investors</td>\n",
       "      <td>Seed Funding</td>\n",
       "      <td>140,000</td>\n",
       "      <td>NaN</td>\n",
       "    </tr>\n",
       "  </tbody>\n",
       "</table>\n",
       "<p>2372 rows × 10 columns</p>\n",
       "</div>"
      ],
      "text/plain": [
       "       SNo        Date       StartupName   IndustryVertical  \\\n",
       "0        0  01/08/2017          TouchKin         Technology   \n",
       "1        1  02/08/2017           Ethinos         Technology   \n",
       "2        2  02/08/2017      Leverage Edu  Consumer Internet   \n",
       "3        3  02/08/2017              Zepo  Consumer Internet   \n",
       "4        4  02/08/2017      Click2Clinic  Consumer Internet   \n",
       "...    ...         ...               ...                ...   \n",
       "2367  2367  29/01/2015        Printvenue                NaN   \n",
       "2368  2368  29/01/2015          Graphene                NaN   \n",
       "2369  2369  30/01/2015    Mad Street Den                NaN   \n",
       "2370  2370  30/01/2015         Simplotel                NaN   \n",
       "2371  2371  31/01/2015  couponmachine.in                NaN   \n",
       "\n",
       "                                        SubVertical CityLocation  \\\n",
       "0                          Predictive Care Platform    Bangalore   \n",
       "1                          Digital Marketing Agency       Mumbai   \n",
       "2     Online platform for Higher Education Services    New Delhi   \n",
       "3                            DIY Ecommerce platform       Mumbai   \n",
       "4                     healthcare service aggregator    Hyderabad   \n",
       "...                                             ...          ...   \n",
       "2367                                            NaN          NaN   \n",
       "2368                                            NaN          NaN   \n",
       "2369                                            NaN          NaN   \n",
       "2370                                            NaN          NaN   \n",
       "2371                                            NaN          NaN   \n",
       "\n",
       "                                          InvestorsName  InvestmentType  \\\n",
       "0                                           Kae Capital  Private Equity   \n",
       "1                            Triton Investment Advisors  Private Equity   \n",
       "2     Kashyap Deorah, Anand Sankeshwar, Deepak Jain,...    Seed Funding   \n",
       "3     Kunal Shah, LetsVenture, Anupam Mittal, Hetal ...    Seed Funding   \n",
       "4                        Narottam Thudi, Shireesh Palle    Seed Funding   \n",
       "...                                                 ...             ...   \n",
       "2367                        Asia Pacific Internet Group  Private Equity   \n",
       "2368                                     KARSEMVEN Fund  Private Equity   \n",
       "2369                     Exfinity Fund, GrowX Ventures.  Private Equity   \n",
       "2370                                         MakeMyTrip  Private Equity   \n",
       "2371                  UK based Group of Angel Investors    Seed Funding   \n",
       "\n",
       "     AmountInUSD                            Remarks  \n",
       "0      1,300,000                                NaN  \n",
       "1            NaN                                NaN  \n",
       "2            NaN                                NaN  \n",
       "3        500,000                                NaN  \n",
       "4        850,000                                NaN  \n",
       "...          ...                                ...  \n",
       "2367   4,500,000                                NaN  \n",
       "2368     825,000                Govt backed VC Fund  \n",
       "2369   1,500,000                                NaN  \n",
       "2370         NaN  Strategic Funding, Minority stake  \n",
       "2371     140,000                                NaN  \n",
       "\n",
       "[2372 rows x 10 columns]"
      ]
     },
     "execution_count": 31,
     "metadata": {},
     "output_type": "execute_result"
    }
   ],
   "source": [
    "data"
   ]
  },
  {
   "cell_type": "code",
   "execution_count": 32,
   "id": "67cc718a",
   "metadata": {},
   "outputs": [
    {
     "data": {
      "text/plain": [
       "SNo                    0\n",
       "Date                   0\n",
       "StartupName            0\n",
       "IndustryVertical     171\n",
       "SubVertical          936\n",
       "CityLocation         179\n",
       "InvestorsName          8\n",
       "InvestmentType         1\n",
       "AmountInUSD          847\n",
       "Remarks             1953\n",
       "dtype: int64"
      ]
     },
     "execution_count": 32,
     "metadata": {},
     "output_type": "execute_result"
    }
   ],
   "source": [
    "data.isnull().sum()"
   ]
  },
  {
   "cell_type": "code",
   "execution_count": null,
   "id": "539299cb",
   "metadata": {},
   "outputs": [],
   "source": [
    "0\n",
    "1\n",
    "2"
   ]
  },
  {
   "cell_type": "code",
   "execution_count": 33,
   "id": "16a1ed68",
   "metadata": {},
   "outputs": [],
   "source": [
    "data['IndustryVertical'] = data['IndustryVertical'].fillna(data['IndustryVertical'].mode()[0])"
   ]
  },
  {
   "cell_type": "code",
   "execution_count": 34,
   "id": "2c168461",
   "metadata": {},
   "outputs": [
    {
     "data": {
      "text/plain": [
       "SNo                    0\n",
       "Date                   0\n",
       "StartupName            0\n",
       "IndustryVertical       0\n",
       "SubVertical          936\n",
       "CityLocation         179\n",
       "InvestorsName          8\n",
       "InvestmentType         1\n",
       "AmountInUSD          847\n",
       "Remarks             1953\n",
       "dtype: int64"
      ]
     },
     "execution_count": 34,
     "metadata": {},
     "output_type": "execute_result"
    }
   ],
   "source": [
    "data.isnull().sum()"
   ]
  },
  {
   "cell_type": "code",
   "execution_count": 8,
   "id": "2189f288",
   "metadata": {},
   "outputs": [],
   "source": [
    "data['IndustryVertical'] = data.IndustryVertical.fillna(data['IndustryVertical'].mode()[0])"
   ]
  },
  {
   "cell_type": "markdown",
   "id": "6dafea3d",
   "metadata": {},
   "source": [
    "### Mean and Median Comparison\n",
    "\n",
    "When we have skewed data, then we use median instead of mean."
   ]
  },
  {
   "cell_type": "code",
   "execution_count": 1,
   "id": "c55ddce6",
   "metadata": {},
   "outputs": [],
   "source": [
    "import numpy as np"
   ]
  },
  {
   "cell_type": "code",
   "execution_count": 13,
   "id": "e4d3f9f0",
   "metadata": {},
   "outputs": [],
   "source": [
    "arr1 = np.array([10,11,13,15,17,21,25])"
   ]
  },
  {
   "cell_type": "code",
   "execution_count": 14,
   "id": "aa32f2f6",
   "metadata": {},
   "outputs": [
    {
     "data": {
      "text/plain": [
       "123.55555555555556"
      ]
     },
     "execution_count": 14,
     "metadata": {},
     "output_type": "execute_result"
    }
   ],
   "source": [
    "np.mean(arr1)"
   ]
  },
  {
   "cell_type": "code",
   "execution_count": 15,
   "id": "14224df4",
   "metadata": {},
   "outputs": [
    {
     "data": {
      "text/plain": [
       "17.0"
      ]
     },
     "execution_count": 15,
     "metadata": {},
     "output_type": "execute_result"
    }
   ],
   "source": [
    "np.median(arr1)"
   ]
  },
  {
   "cell_type": "code",
   "execution_count": null,
   "id": "0d848a9d",
   "metadata": {},
   "outputs": [],
   "source": [
    "###Trimmed mean"
   ]
  },
  {
   "cell_type": "code",
   "execution_count": 10,
   "id": "27899cf5",
   "metadata": {},
   "outputs": [
    {
     "data": {
      "text/plain": [
       "array([ 10,  11,  13,  15,  17,  21,  25, 500])"
      ]
     },
     "execution_count": 10,
     "metadata": {},
     "output_type": "execute_result"
    }
   ],
   "source": [
    "arr1 = np.array([0.01, 0.05, 10,11,13,15,17,21,25,100,100])\n",
    "arr1"
   ]
  },
  {
   "cell_type": "code",
   "execution_count": 11,
   "id": "70d5548a",
   "metadata": {},
   "outputs": [
    {
     "data": {
      "text/plain": [
       "76.5"
      ]
     },
     "execution_count": 11,
     "metadata": {},
     "output_type": "execute_result"
    }
   ],
   "source": [
    "np.mean()"
   ]
  },
  {
   "cell_type": "code",
   "execution_count": null,
   "id": "495729db",
   "metadata": {},
   "outputs": [],
   "source": []
  },
  {
   "cell_type": "code",
   "execution_count": 12,
   "id": "7894c96a",
   "metadata": {},
   "outputs": [
    {
     "data": {
      "text/plain": [
       "16.0"
      ]
     },
     "execution_count": 12,
     "metadata": {},
     "output_type": "execute_result"
    }
   ],
   "source": [
    "np.median(arr1)"
   ]
  },
  {
   "cell_type": "markdown",
   "id": "fa7c2730",
   "metadata": {},
   "source": [
    "**Trimmed Mean Example**"
   ]
  },
  {
   "cell_type": "code",
   "execution_count": 36,
   "id": "a289ecee",
   "metadata": {},
   "outputs": [],
   "source": [
    "arr2 = np.array([50,53,62,61,75,81,95,100])"
   ]
  },
  {
   "cell_type": "code",
   "execution_count": 37,
   "id": "67be4cd3",
   "metadata": {},
   "outputs": [
    {
     "data": {
      "text/plain": [
       "155.0"
      ]
     },
     "execution_count": 37,
     "metadata": {},
     "output_type": "execute_result"
    }
   ],
   "source": [
    "np.mean(arr2)"
   ]
  },
  {
   "cell_type": "markdown",
   "id": "39d01214",
   "metadata": {},
   "source": [
    "### Stratified Sampling Example"
   ]
  },
  {
   "cell_type": "markdown",
   "id": "67d5d59d",
   "metadata": {},
   "source": [
    "## Statistics\n",
    "\n",
    "We covered `statistics` today"
   ]
  },
  {
   "cell_type": "code",
   "execution_count": 26,
   "id": "db42a5ce",
   "metadata": {},
   "outputs": [],
   "source": [
    "import pandas as pd"
   ]
  },
  {
   "cell_type": "code",
   "execution_count": 27,
   "id": "4740db78",
   "metadata": {},
   "outputs": [],
   "source": [
    "titanic = pd.read_csv('titanic.csv')"
   ]
  },
  {
   "cell_type": "code",
   "execution_count": 28,
   "id": "34c847c3",
   "metadata": {},
   "outputs": [
    {
     "data": {
      "text/html": [
       "<div>\n",
       "<style scoped>\n",
       "    .dataframe tbody tr th:only-of-type {\n",
       "        vertical-align: middle;\n",
       "    }\n",
       "\n",
       "    .dataframe tbody tr th {\n",
       "        vertical-align: top;\n",
       "    }\n",
       "\n",
       "    .dataframe thead th {\n",
       "        text-align: right;\n",
       "    }\n",
       "</style>\n",
       "<table border=\"1\" class=\"dataframe\">\n",
       "  <thead>\n",
       "    <tr style=\"text-align: right;\">\n",
       "      <th></th>\n",
       "      <th>PassengerId</th>\n",
       "      <th>Survived</th>\n",
       "      <th>Pclass</th>\n",
       "      <th>Name</th>\n",
       "      <th>Sex</th>\n",
       "      <th>Age</th>\n",
       "      <th>SibSp</th>\n",
       "      <th>Parch</th>\n",
       "      <th>Ticket</th>\n",
       "      <th>Fare</th>\n",
       "      <th>Cabin</th>\n",
       "      <th>Embarked</th>\n",
       "    </tr>\n",
       "  </thead>\n",
       "  <tbody>\n",
       "    <tr>\n",
       "      <th>0</th>\n",
       "      <td>1</td>\n",
       "      <td>0</td>\n",
       "      <td>3</td>\n",
       "      <td>Braund, Mr. Owen Harris</td>\n",
       "      <td>male</td>\n",
       "      <td>22.0</td>\n",
       "      <td>1</td>\n",
       "      <td>0</td>\n",
       "      <td>A/5 21171</td>\n",
       "      <td>7.2500</td>\n",
       "      <td>NaN</td>\n",
       "      <td>S</td>\n",
       "    </tr>\n",
       "    <tr>\n",
       "      <th>1</th>\n",
       "      <td>2</td>\n",
       "      <td>1</td>\n",
       "      <td>1</td>\n",
       "      <td>Cumings, Mrs. John Bradley (Florence Briggs Th...</td>\n",
       "      <td>female</td>\n",
       "      <td>38.0</td>\n",
       "      <td>1</td>\n",
       "      <td>0</td>\n",
       "      <td>PC 17599</td>\n",
       "      <td>71.2833</td>\n",
       "      <td>C85</td>\n",
       "      <td>C</td>\n",
       "    </tr>\n",
       "    <tr>\n",
       "      <th>2</th>\n",
       "      <td>3</td>\n",
       "      <td>1</td>\n",
       "      <td>3</td>\n",
       "      <td>Heikkinen, Miss. Laina</td>\n",
       "      <td>female</td>\n",
       "      <td>26.0</td>\n",
       "      <td>0</td>\n",
       "      <td>0</td>\n",
       "      <td>STON/O2. 3101282</td>\n",
       "      <td>7.9250</td>\n",
       "      <td>NaN</td>\n",
       "      <td>S</td>\n",
       "    </tr>\n",
       "    <tr>\n",
       "      <th>3</th>\n",
       "      <td>4</td>\n",
       "      <td>1</td>\n",
       "      <td>1</td>\n",
       "      <td>Futrelle, Mrs. Jacques Heath (Lily May Peel)</td>\n",
       "      <td>female</td>\n",
       "      <td>35.0</td>\n",
       "      <td>1</td>\n",
       "      <td>0</td>\n",
       "      <td>113803</td>\n",
       "      <td>53.1000</td>\n",
       "      <td>C123</td>\n",
       "      <td>S</td>\n",
       "    </tr>\n",
       "    <tr>\n",
       "      <th>4</th>\n",
       "      <td>5</td>\n",
       "      <td>0</td>\n",
       "      <td>3</td>\n",
       "      <td>Allen, Mr. William Henry</td>\n",
       "      <td>male</td>\n",
       "      <td>35.0</td>\n",
       "      <td>0</td>\n",
       "      <td>0</td>\n",
       "      <td>373450</td>\n",
       "      <td>8.0500</td>\n",
       "      <td>NaN</td>\n",
       "      <td>S</td>\n",
       "    </tr>\n",
       "  </tbody>\n",
       "</table>\n",
       "</div>"
      ],
      "text/plain": [
       "   PassengerId  Survived  Pclass  \\\n",
       "0            1         0       3   \n",
       "1            2         1       1   \n",
       "2            3         1       3   \n",
       "3            4         1       1   \n",
       "4            5         0       3   \n",
       "\n",
       "                                                Name     Sex   Age  SibSp  \\\n",
       "0                            Braund, Mr. Owen Harris    male  22.0      1   \n",
       "1  Cumings, Mrs. John Bradley (Florence Briggs Th...  female  38.0      1   \n",
       "2                             Heikkinen, Miss. Laina  female  26.0      0   \n",
       "3       Futrelle, Mrs. Jacques Heath (Lily May Peel)  female  35.0      1   \n",
       "4                           Allen, Mr. William Henry    male  35.0      0   \n",
       "\n",
       "   Parch            Ticket     Fare Cabin Embarked  \n",
       "0      0         A/5 21171   7.2500   NaN        S  \n",
       "1      0          PC 17599  71.2833   C85        C  \n",
       "2      0  STON/O2. 3101282   7.9250   NaN        S  \n",
       "3      0            113803  53.1000  C123        S  \n",
       "4      0            373450   8.0500   NaN        S  "
      ]
     },
     "execution_count": 28,
     "metadata": {},
     "output_type": "execute_result"
    }
   ],
   "source": [
    "titanic.head()"
   ]
  },
  {
   "cell_type": "code",
   "execution_count": 29,
   "id": "0bc02f88",
   "metadata": {},
   "outputs": [
    {
     "data": {
      "text/plain": [
       "0    549\n",
       "1    342\n",
       "Name: Survived, dtype: int64"
      ]
     },
     "execution_count": 29,
     "metadata": {},
     "output_type": "execute_result"
    }
   ],
   "source": [
    "titanic['Survived'].value_counts()"
   ]
  },
  {
   "cell_type": "markdown",
   "id": "96288fc4",
   "metadata": {},
   "source": [
    "For stratified sampling, we first group the data together and then choose equal samples from it.\n",
    "\n",
    "\n",
    "In the below cell, we are doing the sampling dispropotionately which means that even though the sruvived people are less in the data, we are taking them equal to non survived"
   ]
  },
  {
   "cell_type": "code",
   "execution_count": 30,
   "id": "98fe77d4",
   "metadata": {},
   "outputs": [
    {
     "data": {
      "text/html": [
       "<div>\n",
       "<style scoped>\n",
       "    .dataframe tbody tr th:only-of-type {\n",
       "        vertical-align: middle;\n",
       "    }\n",
       "\n",
       "    .dataframe tbody tr th {\n",
       "        vertical-align: top;\n",
       "    }\n",
       "\n",
       "    .dataframe thead th {\n",
       "        text-align: right;\n",
       "    }\n",
       "</style>\n",
       "<table border=\"1\" class=\"dataframe\">\n",
       "  <thead>\n",
       "    <tr style=\"text-align: right;\">\n",
       "      <th></th>\n",
       "      <th>PassengerId</th>\n",
       "      <th>Survived</th>\n",
       "      <th>Pclass</th>\n",
       "      <th>Name</th>\n",
       "      <th>Sex</th>\n",
       "      <th>Age</th>\n",
       "      <th>SibSp</th>\n",
       "      <th>Parch</th>\n",
       "      <th>Ticket</th>\n",
       "      <th>Fare</th>\n",
       "      <th>Cabin</th>\n",
       "      <th>Embarked</th>\n",
       "    </tr>\n",
       "  </thead>\n",
       "  <tbody>\n",
       "    <tr>\n",
       "      <th>408</th>\n",
       "      <td>409</td>\n",
       "      <td>0</td>\n",
       "      <td>3</td>\n",
       "      <td>Birkeland, Mr. Hans Martin Monsen</td>\n",
       "      <td>male</td>\n",
       "      <td>21.0</td>\n",
       "      <td>0</td>\n",
       "      <td>0</td>\n",
       "      <td>312992</td>\n",
       "      <td>7.7750</td>\n",
       "      <td>NaN</td>\n",
       "      <td>S</td>\n",
       "    </tr>\n",
       "    <tr>\n",
       "      <th>205</th>\n",
       "      <td>206</td>\n",
       "      <td>0</td>\n",
       "      <td>3</td>\n",
       "      <td>Strom, Miss. Telma Matilda</td>\n",
       "      <td>female</td>\n",
       "      <td>2.0</td>\n",
       "      <td>0</td>\n",
       "      <td>1</td>\n",
       "      <td>347054</td>\n",
       "      <td>10.4625</td>\n",
       "      <td>G6</td>\n",
       "      <td>S</td>\n",
       "    </tr>\n",
       "    <tr>\n",
       "      <th>214</th>\n",
       "      <td>215</td>\n",
       "      <td>0</td>\n",
       "      <td>3</td>\n",
       "      <td>Kiernan, Mr. Philip</td>\n",
       "      <td>male</td>\n",
       "      <td>NaN</td>\n",
       "      <td>1</td>\n",
       "      <td>0</td>\n",
       "      <td>367229</td>\n",
       "      <td>7.7500</td>\n",
       "      <td>NaN</td>\n",
       "      <td>Q</td>\n",
       "    </tr>\n",
       "    <tr>\n",
       "      <th>415</th>\n",
       "      <td>416</td>\n",
       "      <td>0</td>\n",
       "      <td>3</td>\n",
       "      <td>Meek, Mrs. Thomas (Annie Louise Rowley)</td>\n",
       "      <td>female</td>\n",
       "      <td>NaN</td>\n",
       "      <td>0</td>\n",
       "      <td>0</td>\n",
       "      <td>343095</td>\n",
       "      <td>8.0500</td>\n",
       "      <td>NaN</td>\n",
       "      <td>S</td>\n",
       "    </tr>\n",
       "    <tr>\n",
       "      <th>256</th>\n",
       "      <td>257</td>\n",
       "      <td>1</td>\n",
       "      <td>1</td>\n",
       "      <td>Thorne, Mrs. Gertrude Maybelle</td>\n",
       "      <td>female</td>\n",
       "      <td>NaN</td>\n",
       "      <td>0</td>\n",
       "      <td>0</td>\n",
       "      <td>PC 17585</td>\n",
       "      <td>79.2000</td>\n",
       "      <td>NaN</td>\n",
       "      <td>C</td>\n",
       "    </tr>\n",
       "    <tr>\n",
       "      <th>537</th>\n",
       "      <td>538</td>\n",
       "      <td>1</td>\n",
       "      <td>1</td>\n",
       "      <td>LeRoy, Miss. Bertha</td>\n",
       "      <td>female</td>\n",
       "      <td>30.0</td>\n",
       "      <td>0</td>\n",
       "      <td>0</td>\n",
       "      <td>PC 17761</td>\n",
       "      <td>106.4250</td>\n",
       "      <td>NaN</td>\n",
       "      <td>C</td>\n",
       "    </tr>\n",
       "    <tr>\n",
       "      <th>315</th>\n",
       "      <td>316</td>\n",
       "      <td>1</td>\n",
       "      <td>3</td>\n",
       "      <td>Nilsson, Miss. Helmina Josefina</td>\n",
       "      <td>female</td>\n",
       "      <td>26.0</td>\n",
       "      <td>0</td>\n",
       "      <td>0</td>\n",
       "      <td>347470</td>\n",
       "      <td>7.8542</td>\n",
       "      <td>NaN</td>\n",
       "      <td>S</td>\n",
       "    </tr>\n",
       "    <tr>\n",
       "      <th>591</th>\n",
       "      <td>592</td>\n",
       "      <td>1</td>\n",
       "      <td>1</td>\n",
       "      <td>Stephenson, Mrs. Walter Bertram (Martha Eustis)</td>\n",
       "      <td>female</td>\n",
       "      <td>52.0</td>\n",
       "      <td>1</td>\n",
       "      <td>0</td>\n",
       "      <td>36947</td>\n",
       "      <td>78.2667</td>\n",
       "      <td>D20</td>\n",
       "      <td>C</td>\n",
       "    </tr>\n",
       "  </tbody>\n",
       "</table>\n",
       "</div>"
      ],
      "text/plain": [
       "     PassengerId  Survived  Pclass  \\\n",
       "408          409         0       3   \n",
       "205          206         0       3   \n",
       "214          215         0       3   \n",
       "415          416         0       3   \n",
       "256          257         1       1   \n",
       "537          538         1       1   \n",
       "315          316         1       3   \n",
       "591          592         1       1   \n",
       "\n",
       "                                                Name     Sex   Age  SibSp  \\\n",
       "408                Birkeland, Mr. Hans Martin Monsen    male  21.0      0   \n",
       "205                       Strom, Miss. Telma Matilda  female   2.0      0   \n",
       "214                              Kiernan, Mr. Philip    male   NaN      1   \n",
       "415          Meek, Mrs. Thomas (Annie Louise Rowley)  female   NaN      0   \n",
       "256                   Thorne, Mrs. Gertrude Maybelle  female   NaN      0   \n",
       "537                              LeRoy, Miss. Bertha  female  30.0      0   \n",
       "315                  Nilsson, Miss. Helmina Josefina  female  26.0      0   \n",
       "591  Stephenson, Mrs. Walter Bertram (Martha Eustis)  female  52.0      1   \n",
       "\n",
       "     Parch    Ticket      Fare Cabin Embarked  \n",
       "408      0    312992    7.7750   NaN        S  \n",
       "205      1    347054   10.4625    G6        S  \n",
       "214      0    367229    7.7500   NaN        Q  \n",
       "415      0    343095    8.0500   NaN        S  \n",
       "256      0  PC 17585   79.2000   NaN        C  \n",
       "537      0  PC 17761  106.4250   NaN        C  \n",
       "315      0    347470    7.8542   NaN        S  \n",
       "591      0     36947   78.2667   D20        C  "
      ]
     },
     "execution_count": 30,
     "metadata": {},
     "output_type": "execute_result"
    }
   ],
   "source": [
    "# Disproportionate Sampling\n",
    "titanic.groupby('Survived', group_keys=False).apply(lambda x: x.sample(4))"
   ]
  },
  {
   "cell_type": "code",
   "execution_count": 31,
   "id": "3e1e4915",
   "metadata": {},
   "outputs": [
    {
     "data": {
      "text/html": [
       "<div>\n",
       "<style scoped>\n",
       "    .dataframe tbody tr th:only-of-type {\n",
       "        vertical-align: middle;\n",
       "    }\n",
       "\n",
       "    .dataframe tbody tr th {\n",
       "        vertical-align: top;\n",
       "    }\n",
       "\n",
       "    .dataframe thead th {\n",
       "        text-align: right;\n",
       "    }\n",
       "</style>\n",
       "<table border=\"1\" class=\"dataframe\">\n",
       "  <thead>\n",
       "    <tr style=\"text-align: right;\">\n",
       "      <th></th>\n",
       "      <th>PassengerId</th>\n",
       "      <th>Survived</th>\n",
       "      <th>Pclass</th>\n",
       "      <th>Name</th>\n",
       "      <th>Sex</th>\n",
       "      <th>Age</th>\n",
       "      <th>SibSp</th>\n",
       "      <th>Parch</th>\n",
       "      <th>Ticket</th>\n",
       "      <th>Fare</th>\n",
       "      <th>Cabin</th>\n",
       "      <th>Embarked</th>\n",
       "    </tr>\n",
       "  </thead>\n",
       "  <tbody>\n",
       "    <tr>\n",
       "      <th>825</th>\n",
       "      <td>826</td>\n",
       "      <td>0</td>\n",
       "      <td>3</td>\n",
       "      <td>Flynn, Mr. John</td>\n",
       "      <td>male</td>\n",
       "      <td>NaN</td>\n",
       "      <td>0</td>\n",
       "      <td>0</td>\n",
       "      <td>368323</td>\n",
       "      <td>6.9500</td>\n",
       "      <td>NaN</td>\n",
       "      <td>Q</td>\n",
       "    </tr>\n",
       "    <tr>\n",
       "      <th>321</th>\n",
       "      <td>322</td>\n",
       "      <td>0</td>\n",
       "      <td>3</td>\n",
       "      <td>Danoff, Mr. Yoto</td>\n",
       "      <td>male</td>\n",
       "      <td>27.0</td>\n",
       "      <td>0</td>\n",
       "      <td>0</td>\n",
       "      <td>349219</td>\n",
       "      <td>7.8958</td>\n",
       "      <td>NaN</td>\n",
       "      <td>S</td>\n",
       "    </tr>\n",
       "    <tr>\n",
       "      <th>41</th>\n",
       "      <td>42</td>\n",
       "      <td>0</td>\n",
       "      <td>2</td>\n",
       "      <td>Turpin, Mrs. William John Robert (Dorothy Ann ...</td>\n",
       "      <td>female</td>\n",
       "      <td>27.0</td>\n",
       "      <td>1</td>\n",
       "      <td>0</td>\n",
       "      <td>11668</td>\n",
       "      <td>21.0000</td>\n",
       "      <td>NaN</td>\n",
       "      <td>S</td>\n",
       "    </tr>\n",
       "    <tr>\n",
       "      <th>588</th>\n",
       "      <td>589</td>\n",
       "      <td>0</td>\n",
       "      <td>3</td>\n",
       "      <td>Gilinski, Mr. Eliezer</td>\n",
       "      <td>male</td>\n",
       "      <td>22.0</td>\n",
       "      <td>0</td>\n",
       "      <td>0</td>\n",
       "      <td>14973</td>\n",
       "      <td>8.0500</td>\n",
       "      <td>NaN</td>\n",
       "      <td>S</td>\n",
       "    </tr>\n",
       "    <tr>\n",
       "      <th>495</th>\n",
       "      <td>496</td>\n",
       "      <td>0</td>\n",
       "      <td>3</td>\n",
       "      <td>Yousseff, Mr. Gerious</td>\n",
       "      <td>male</td>\n",
       "      <td>NaN</td>\n",
       "      <td>0</td>\n",
       "      <td>0</td>\n",
       "      <td>2627</td>\n",
       "      <td>14.4583</td>\n",
       "      <td>NaN</td>\n",
       "      <td>C</td>\n",
       "    </tr>\n",
       "    <tr>\n",
       "      <th>700</th>\n",
       "      <td>701</td>\n",
       "      <td>1</td>\n",
       "      <td>1</td>\n",
       "      <td>Astor, Mrs. John Jacob (Madeleine Talmadge Force)</td>\n",
       "      <td>female</td>\n",
       "      <td>18.0</td>\n",
       "      <td>1</td>\n",
       "      <td>0</td>\n",
       "      <td>PC 17757</td>\n",
       "      <td>227.5250</td>\n",
       "      <td>C62 C64</td>\n",
       "      <td>C</td>\n",
       "    </tr>\n",
       "    <tr>\n",
       "      <th>632</th>\n",
       "      <td>633</td>\n",
       "      <td>1</td>\n",
       "      <td>1</td>\n",
       "      <td>Stahelin-Maeglin, Dr. Max</td>\n",
       "      <td>male</td>\n",
       "      <td>32.0</td>\n",
       "      <td>0</td>\n",
       "      <td>0</td>\n",
       "      <td>13214</td>\n",
       "      <td>30.5000</td>\n",
       "      <td>B50</td>\n",
       "      <td>C</td>\n",
       "    </tr>\n",
       "    <tr>\n",
       "      <th>581</th>\n",
       "      <td>582</td>\n",
       "      <td>1</td>\n",
       "      <td>1</td>\n",
       "      <td>Thayer, Mrs. John Borland (Marian Longstreth M...</td>\n",
       "      <td>female</td>\n",
       "      <td>39.0</td>\n",
       "      <td>1</td>\n",
       "      <td>1</td>\n",
       "      <td>17421</td>\n",
       "      <td>110.8833</td>\n",
       "      <td>C68</td>\n",
       "      <td>C</td>\n",
       "    </tr>\n",
       "  </tbody>\n",
       "</table>\n",
       "</div>"
      ],
      "text/plain": [
       "     PassengerId  Survived  Pclass  \\\n",
       "825          826         0       3   \n",
       "321          322         0       3   \n",
       "41            42         0       2   \n",
       "588          589         0       3   \n",
       "495          496         0       3   \n",
       "700          701         1       1   \n",
       "632          633         1       1   \n",
       "581          582         1       1   \n",
       "\n",
       "                                                  Name     Sex   Age  SibSp  \\\n",
       "825                                    Flynn, Mr. John    male   NaN      0   \n",
       "321                                   Danoff, Mr. Yoto    male  27.0      0   \n",
       "41   Turpin, Mrs. William John Robert (Dorothy Ann ...  female  27.0      1   \n",
       "588                              Gilinski, Mr. Eliezer    male  22.0      0   \n",
       "495                              Yousseff, Mr. Gerious    male   NaN      0   \n",
       "700  Astor, Mrs. John Jacob (Madeleine Talmadge Force)  female  18.0      1   \n",
       "632                          Stahelin-Maeglin, Dr. Max    male  32.0      0   \n",
       "581  Thayer, Mrs. John Borland (Marian Longstreth M...  female  39.0      1   \n",
       "\n",
       "     Parch    Ticket      Fare    Cabin Embarked  \n",
       "825      0    368323    6.9500      NaN        Q  \n",
       "321      0    349219    7.8958      NaN        S  \n",
       "41       0     11668   21.0000      NaN        S  \n",
       "588      0     14973    8.0500      NaN        S  \n",
       "495      0      2627   14.4583      NaN        C  \n",
       "700      0  PC 17757  227.5250  C62 C64        C  \n",
       "632      0     13214   30.5000      B50        C  \n",
       "581      1     17421  110.8833      C68        C  "
      ]
     },
     "execution_count": 31,
     "metadata": {},
     "output_type": "execute_result"
    }
   ],
   "source": [
    "# Proportionate Sampling\n",
    "titanic.groupby('Survived', group_keys=False).apply(lambda x: x.sample(frac=0.01))"
   ]
  },
  {
   "cell_type": "markdown",
   "id": "ad3aa721",
   "metadata": {},
   "source": [
    "### Variation Examples"
   ]
  },
  {
   "cell_type": "code",
   "execution_count": 1,
   "id": "41bac403",
   "metadata": {},
   "outputs": [],
   "source": [
    "import pandas as pd"
   ]
  },
  {
   "cell_type": "code",
   "execution_count": 2,
   "id": "7a5b514b",
   "metadata": {},
   "outputs": [],
   "source": [
    "market = pd.read_csv('market_fact.csv')"
   ]
  },
  {
   "cell_type": "code",
   "execution_count": 3,
   "id": "4899756c",
   "metadata": {},
   "outputs": [
    {
     "data": {
      "text/html": [
       "<div>\n",
       "<style scoped>\n",
       "    .dataframe tbody tr th:only-of-type {\n",
       "        vertical-align: middle;\n",
       "    }\n",
       "\n",
       "    .dataframe tbody tr th {\n",
       "        vertical-align: top;\n",
       "    }\n",
       "\n",
       "    .dataframe thead th {\n",
       "        text-align: right;\n",
       "    }\n",
       "</style>\n",
       "<table border=\"1\" class=\"dataframe\">\n",
       "  <thead>\n",
       "    <tr style=\"text-align: right;\">\n",
       "      <th></th>\n",
       "      <th>Ord_id</th>\n",
       "      <th>Prod_id</th>\n",
       "      <th>Ship_id</th>\n",
       "      <th>Cust_id</th>\n",
       "      <th>Sales</th>\n",
       "      <th>Discount</th>\n",
       "      <th>Order_Quantity</th>\n",
       "      <th>Profit</th>\n",
       "      <th>Shipping_Cost</th>\n",
       "      <th>Product_Base_Margin</th>\n",
       "    </tr>\n",
       "  </thead>\n",
       "  <tbody>\n",
       "    <tr>\n",
       "      <th>0</th>\n",
       "      <td>Ord_5446</td>\n",
       "      <td>Prod_16</td>\n",
       "      <td>SHP_7609</td>\n",
       "      <td>Cust_1818</td>\n",
       "      <td>136.81</td>\n",
       "      <td>0.01</td>\n",
       "      <td>23</td>\n",
       "      <td>-30.51</td>\n",
       "      <td>3.60</td>\n",
       "      <td>0.56</td>\n",
       "    </tr>\n",
       "    <tr>\n",
       "      <th>1</th>\n",
       "      <td>Ord_5406</td>\n",
       "      <td>Prod_13</td>\n",
       "      <td>SHP_7549</td>\n",
       "      <td>Cust_1818</td>\n",
       "      <td>42.27</td>\n",
       "      <td>0.01</td>\n",
       "      <td>13</td>\n",
       "      <td>4.56</td>\n",
       "      <td>0.93</td>\n",
       "      <td>0.54</td>\n",
       "    </tr>\n",
       "    <tr>\n",
       "      <th>2</th>\n",
       "      <td>Ord_5446</td>\n",
       "      <td>Prod_4</td>\n",
       "      <td>SHP_7610</td>\n",
       "      <td>Cust_1818</td>\n",
       "      <td>4701.69</td>\n",
       "      <td>0.00</td>\n",
       "      <td>26</td>\n",
       "      <td>1148.90</td>\n",
       "      <td>2.50</td>\n",
       "      <td>0.59</td>\n",
       "    </tr>\n",
       "    <tr>\n",
       "      <th>3</th>\n",
       "      <td>Ord_5456</td>\n",
       "      <td>Prod_6</td>\n",
       "      <td>SHP_7625</td>\n",
       "      <td>Cust_1818</td>\n",
       "      <td>2337.89</td>\n",
       "      <td>0.09</td>\n",
       "      <td>43</td>\n",
       "      <td>729.34</td>\n",
       "      <td>14.30</td>\n",
       "      <td>0.37</td>\n",
       "    </tr>\n",
       "    <tr>\n",
       "      <th>4</th>\n",
       "      <td>Ord_5485</td>\n",
       "      <td>Prod_17</td>\n",
       "      <td>SHP_7664</td>\n",
       "      <td>Cust_1818</td>\n",
       "      <td>4233.15</td>\n",
       "      <td>0.08</td>\n",
       "      <td>35</td>\n",
       "      <td>1219.87</td>\n",
       "      <td>26.30</td>\n",
       "      <td>0.38</td>\n",
       "    </tr>\n",
       "  </tbody>\n",
       "</table>\n",
       "</div>"
      ],
      "text/plain": [
       "     Ord_id  Prod_id   Ship_id    Cust_id    Sales  Discount  Order_Quantity  \\\n",
       "0  Ord_5446  Prod_16  SHP_7609  Cust_1818   136.81      0.01              23   \n",
       "1  Ord_5406  Prod_13  SHP_7549  Cust_1818    42.27      0.01              13   \n",
       "2  Ord_5446   Prod_4  SHP_7610  Cust_1818  4701.69      0.00              26   \n",
       "3  Ord_5456   Prod_6  SHP_7625  Cust_1818  2337.89      0.09              43   \n",
       "4  Ord_5485  Prod_17  SHP_7664  Cust_1818  4233.15      0.08              35   \n",
       "\n",
       "    Profit  Shipping_Cost  Product_Base_Margin  \n",
       "0   -30.51           3.60                 0.56  \n",
       "1     4.56           0.93                 0.54  \n",
       "2  1148.90           2.50                 0.59  \n",
       "3   729.34          14.30                 0.37  \n",
       "4  1219.87          26.30                 0.38  "
      ]
     },
     "execution_count": 3,
     "metadata": {},
     "output_type": "execute_result"
    }
   ],
   "source": [
    "market.head()"
   ]
  },
  {
   "cell_type": "code",
   "execution_count": 4,
   "id": "4aee2315",
   "metadata": {},
   "outputs": [
    {
     "data": {
      "text/plain": [
       "1775.8781788308156"
      ]
     },
     "execution_count": 4,
     "metadata": {},
     "output_type": "execute_result"
    }
   ],
   "source": [
    "market['Sales'].mean()"
   ]
  },
  {
   "cell_type": "code",
   "execution_count": 5,
   "id": "5795d0ce",
   "metadata": {},
   "outputs": [
    {
     "data": {
      "text/html": [
       "<div>\n",
       "<style scoped>\n",
       "    .dataframe tbody tr th:only-of-type {\n",
       "        vertical-align: middle;\n",
       "    }\n",
       "\n",
       "    .dataframe tbody tr th {\n",
       "        vertical-align: top;\n",
       "    }\n",
       "\n",
       "    .dataframe thead th {\n",
       "        text-align: right;\n",
       "    }\n",
       "</style>\n",
       "<table border=\"1\" class=\"dataframe\">\n",
       "  <thead>\n",
       "    <tr style=\"text-align: right;\">\n",
       "      <th></th>\n",
       "      <th>Sales</th>\n",
       "      <th>Discount</th>\n",
       "      <th>Order_Quantity</th>\n",
       "      <th>Profit</th>\n",
       "      <th>Shipping_Cost</th>\n",
       "      <th>Product_Base_Margin</th>\n",
       "    </tr>\n",
       "  </thead>\n",
       "  <tbody>\n",
       "    <tr>\n",
       "      <th>count</th>\n",
       "      <td>8399.000000</td>\n",
       "      <td>8399.000000</td>\n",
       "      <td>8399.000000</td>\n",
       "      <td>8399.000000</td>\n",
       "      <td>8399.000000</td>\n",
       "      <td>8336.000000</td>\n",
       "    </tr>\n",
       "    <tr>\n",
       "      <th>mean</th>\n",
       "      <td>1775.878179</td>\n",
       "      <td>0.049671</td>\n",
       "      <td>25.571735</td>\n",
       "      <td>181.184424</td>\n",
       "      <td>12.838557</td>\n",
       "      <td>0.512513</td>\n",
       "    </tr>\n",
       "    <tr>\n",
       "      <th>std</th>\n",
       "      <td>3585.050525</td>\n",
       "      <td>0.031823</td>\n",
       "      <td>14.481071</td>\n",
       "      <td>1196.653371</td>\n",
       "      <td>17.264052</td>\n",
       "      <td>0.135589</td>\n",
       "    </tr>\n",
       "    <tr>\n",
       "      <th>min</th>\n",
       "      <td>2.240000</td>\n",
       "      <td>0.000000</td>\n",
       "      <td>1.000000</td>\n",
       "      <td>-14140.700000</td>\n",
       "      <td>0.490000</td>\n",
       "      <td>0.350000</td>\n",
       "    </tr>\n",
       "    <tr>\n",
       "      <th>25%</th>\n",
       "      <td>143.195000</td>\n",
       "      <td>0.020000</td>\n",
       "      <td>13.000000</td>\n",
       "      <td>-83.315000</td>\n",
       "      <td>3.300000</td>\n",
       "      <td>0.380000</td>\n",
       "    </tr>\n",
       "    <tr>\n",
       "      <th>50%</th>\n",
       "      <td>449.420000</td>\n",
       "      <td>0.050000</td>\n",
       "      <td>26.000000</td>\n",
       "      <td>-1.500000</td>\n",
       "      <td>6.070000</td>\n",
       "      <td>0.520000</td>\n",
       "    </tr>\n",
       "    <tr>\n",
       "      <th>75%</th>\n",
       "      <td>1709.320000</td>\n",
       "      <td>0.080000</td>\n",
       "      <td>38.000000</td>\n",
       "      <td>162.750000</td>\n",
       "      <td>13.990000</td>\n",
       "      <td>0.590000</td>\n",
       "    </tr>\n",
       "    <tr>\n",
       "      <th>max</th>\n",
       "      <td>89061.050000</td>\n",
       "      <td>0.250000</td>\n",
       "      <td>50.000000</td>\n",
       "      <td>27220.690000</td>\n",
       "      <td>164.730000</td>\n",
       "      <td>0.850000</td>\n",
       "    </tr>\n",
       "  </tbody>\n",
       "</table>\n",
       "</div>"
      ],
      "text/plain": [
       "              Sales     Discount  Order_Quantity        Profit  Shipping_Cost  \\\n",
       "count   8399.000000  8399.000000     8399.000000   8399.000000    8399.000000   \n",
       "mean    1775.878179     0.049671       25.571735    181.184424      12.838557   \n",
       "std     3585.050525     0.031823       14.481071   1196.653371      17.264052   \n",
       "min        2.240000     0.000000        1.000000 -14140.700000       0.490000   \n",
       "25%      143.195000     0.020000       13.000000    -83.315000       3.300000   \n",
       "50%      449.420000     0.050000       26.000000     -1.500000       6.070000   \n",
       "75%     1709.320000     0.080000       38.000000    162.750000      13.990000   \n",
       "max    89061.050000     0.250000       50.000000  27220.690000     164.730000   \n",
       "\n",
       "       Product_Base_Margin  \n",
       "count          8336.000000  \n",
       "mean              0.512513  \n",
       "std               0.135589  \n",
       "min               0.350000  \n",
       "25%               0.380000  \n",
       "50%               0.520000  \n",
       "75%               0.590000  \n",
       "max               0.850000  "
      ]
     },
     "execution_count": 5,
     "metadata": {},
     "output_type": "execute_result"
    }
   ],
   "source": [
    "market.describe()  # statistical description of the data"
   ]
  },
  {
   "cell_type": "code",
   "execution_count": 6,
   "id": "ceb0e74b",
   "metadata": {},
   "outputs": [
    {
     "data": {
      "text/html": [
       "<div>\n",
       "<style scoped>\n",
       "    .dataframe tbody tr th:only-of-type {\n",
       "        vertical-align: middle;\n",
       "    }\n",
       "\n",
       "    .dataframe tbody tr th {\n",
       "        vertical-align: top;\n",
       "    }\n",
       "\n",
       "    .dataframe thead th {\n",
       "        text-align: right;\n",
       "    }\n",
       "</style>\n",
       "<table border=\"1\" class=\"dataframe\">\n",
       "  <thead>\n",
       "    <tr style=\"text-align: right;\">\n",
       "      <th></th>\n",
       "      <th>Sales</th>\n",
       "      <th>Discount</th>\n",
       "      <th>Order_Quantity</th>\n",
       "      <th>Profit</th>\n",
       "      <th>Shipping_Cost</th>\n",
       "      <th>Product_Base_Margin</th>\n",
       "    </tr>\n",
       "  </thead>\n",
       "  <tbody>\n",
       "    <tr>\n",
       "      <th>count</th>\n",
       "      <td>8399.000000</td>\n",
       "      <td>8399.000000</td>\n",
       "      <td>8399.000000</td>\n",
       "      <td>8399.000000</td>\n",
       "      <td>8399.000000</td>\n",
       "      <td>8336.000000</td>\n",
       "    </tr>\n",
       "    <tr>\n",
       "      <th>mean</th>\n",
       "      <td>1775.878179</td>\n",
       "      <td>0.049671</td>\n",
       "      <td>25.571735</td>\n",
       "      <td>181.184424</td>\n",
       "      <td>12.838557</td>\n",
       "      <td>0.512513</td>\n",
       "    </tr>\n",
       "    <tr>\n",
       "      <th>std</th>\n",
       "      <td>3585.050525</td>\n",
       "      <td>0.031823</td>\n",
       "      <td>14.481071</td>\n",
       "      <td>1196.653371</td>\n",
       "      <td>17.264052</td>\n",
       "      <td>0.135589</td>\n",
       "    </tr>\n",
       "    <tr>\n",
       "      <th>min</th>\n",
       "      <td>2.240000</td>\n",
       "      <td>0.000000</td>\n",
       "      <td>1.000000</td>\n",
       "      <td>-14140.700000</td>\n",
       "      <td>0.490000</td>\n",
       "      <td>0.350000</td>\n",
       "    </tr>\n",
       "    <tr>\n",
       "      <th>10%</th>\n",
       "      <td>60.688000</td>\n",
       "      <td>0.010000</td>\n",
       "      <td>5.000000</td>\n",
       "      <td>-265.740000</td>\n",
       "      <td>1.250000</td>\n",
       "      <td>0.360000</td>\n",
       "    </tr>\n",
       "    <tr>\n",
       "      <th>25%</th>\n",
       "      <td>143.195000</td>\n",
       "      <td>0.020000</td>\n",
       "      <td>13.000000</td>\n",
       "      <td>-83.315000</td>\n",
       "      <td>3.300000</td>\n",
       "      <td>0.380000</td>\n",
       "    </tr>\n",
       "    <tr>\n",
       "      <th>50%</th>\n",
       "      <td>449.420000</td>\n",
       "      <td>0.050000</td>\n",
       "      <td>26.000000</td>\n",
       "      <td>-1.500000</td>\n",
       "      <td>6.070000</td>\n",
       "      <td>0.520000</td>\n",
       "    </tr>\n",
       "    <tr>\n",
       "      <th>75%</th>\n",
       "      <td>1709.320000</td>\n",
       "      <td>0.080000</td>\n",
       "      <td>38.000000</td>\n",
       "      <td>162.750000</td>\n",
       "      <td>13.990000</td>\n",
       "      <td>0.590000</td>\n",
       "    </tr>\n",
       "    <tr>\n",
       "      <th>85%</th>\n",
       "      <td>3346.201000</td>\n",
       "      <td>0.090000</td>\n",
       "      <td>43.000000</td>\n",
       "      <td>462.370000</td>\n",
       "      <td>24.490000</td>\n",
       "      <td>0.650000</td>\n",
       "    </tr>\n",
       "    <tr>\n",
       "      <th>90%</th>\n",
       "      <td>4918.979000</td>\n",
       "      <td>0.090000</td>\n",
       "      <td>46.000000</td>\n",
       "      <td>769.038000</td>\n",
       "      <td>35.000000</td>\n",
       "      <td>0.720000</td>\n",
       "    </tr>\n",
       "    <tr>\n",
       "      <th>95%</th>\n",
       "      <td>7844.335000</td>\n",
       "      <td>0.100000</td>\n",
       "      <td>48.000000</td>\n",
       "      <td>1542.309000</td>\n",
       "      <td>55.351000</td>\n",
       "      <td>0.780000</td>\n",
       "    </tr>\n",
       "    <tr>\n",
       "      <th>99%</th>\n",
       "      <td>18318.398000</td>\n",
       "      <td>0.100000</td>\n",
       "      <td>50.000000</td>\n",
       "      <td>5381.126000</td>\n",
       "      <td>74.350000</td>\n",
       "      <td>0.830000</td>\n",
       "    </tr>\n",
       "    <tr>\n",
       "      <th>max</th>\n",
       "      <td>89061.050000</td>\n",
       "      <td>0.250000</td>\n",
       "      <td>50.000000</td>\n",
       "      <td>27220.690000</td>\n",
       "      <td>164.730000</td>\n",
       "      <td>0.850000</td>\n",
       "    </tr>\n",
       "  </tbody>\n",
       "</table>\n",
       "</div>"
      ],
      "text/plain": [
       "              Sales     Discount  Order_Quantity        Profit  Shipping_Cost  \\\n",
       "count   8399.000000  8399.000000     8399.000000   8399.000000    8399.000000   \n",
       "mean    1775.878179     0.049671       25.571735    181.184424      12.838557   \n",
       "std     3585.050525     0.031823       14.481071   1196.653371      17.264052   \n",
       "min        2.240000     0.000000        1.000000 -14140.700000       0.490000   \n",
       "10%       60.688000     0.010000        5.000000   -265.740000       1.250000   \n",
       "25%      143.195000     0.020000       13.000000    -83.315000       3.300000   \n",
       "50%      449.420000     0.050000       26.000000     -1.500000       6.070000   \n",
       "75%     1709.320000     0.080000       38.000000    162.750000      13.990000   \n",
       "85%     3346.201000     0.090000       43.000000    462.370000      24.490000   \n",
       "90%     4918.979000     0.090000       46.000000    769.038000      35.000000   \n",
       "95%     7844.335000     0.100000       48.000000   1542.309000      55.351000   \n",
       "99%    18318.398000     0.100000       50.000000   5381.126000      74.350000   \n",
       "max    89061.050000     0.250000       50.000000  27220.690000     164.730000   \n",
       "\n",
       "       Product_Base_Margin  \n",
       "count          8336.000000  \n",
       "mean              0.512513  \n",
       "std               0.135589  \n",
       "min               0.350000  \n",
       "10%               0.360000  \n",
       "25%               0.380000  \n",
       "50%               0.520000  \n",
       "75%               0.590000  \n",
       "85%               0.650000  \n",
       "90%               0.720000  \n",
       "95%               0.780000  \n",
       "99%               0.830000  \n",
       "max               0.850000  "
      ]
     },
     "execution_count": 6,
     "metadata": {},
     "output_type": "execute_result"
    }
   ],
   "source": [
    "market.describe(percentiles = [0.10, 0.25, 0.50, 0.75, 0.85, 0.90, 0.95, 0.99])"
   ]
  },
  {
   "cell_type": "code",
   "execution_count": 38,
   "id": "7701f8c5",
   "metadata": {},
   "outputs": [
    {
     "data": {
      "text/plain": [
       "89058.81"
      ]
     },
     "execution_count": 38,
     "metadata": {},
     "output_type": "execute_result"
    }
   ],
   "source": [
    "# Range\n",
    "\n",
    "89061.05 - 2.24"
   ]
  },
  {
   "cell_type": "code",
   "execution_count": 3,
   "id": "57609dfb",
   "metadata": {},
   "outputs": [
    {
     "data": {
      "text/html": [
       "<div>\n",
       "<style scoped>\n",
       "    .dataframe tbody tr th:only-of-type {\n",
       "        vertical-align: middle;\n",
       "    }\n",
       "\n",
       "    .dataframe tbody tr th {\n",
       "        vertical-align: top;\n",
       "    }\n",
       "\n",
       "    .dataframe thead th {\n",
       "        text-align: right;\n",
       "    }\n",
       "</style>\n",
       "<table border=\"1\" class=\"dataframe\">\n",
       "  <thead>\n",
       "    <tr style=\"text-align: right;\">\n",
       "      <th></th>\n",
       "      <th>Sales</th>\n",
       "      <th>Profit</th>\n",
       "    </tr>\n",
       "  </thead>\n",
       "  <tbody>\n",
       "    <tr>\n",
       "      <th>Sales</th>\n",
       "      <td>1.00000</td>\n",
       "      <td>0.58196</td>\n",
       "    </tr>\n",
       "    <tr>\n",
       "      <th>Profit</th>\n",
       "      <td>0.58196</td>\n",
       "      <td>1.00000</td>\n",
       "    </tr>\n",
       "  </tbody>\n",
       "</table>\n",
       "</div>"
      ],
      "text/plain": [
       "          Sales   Profit\n",
       "Sales   1.00000  0.58196\n",
       "Profit  0.58196  1.00000"
      ]
     },
     "execution_count": 3,
     "metadata": {},
     "output_type": "execute_result"
    }
   ],
   "source": [
    "market[['Sales','Profit', 'Discount']].corr()"
   ]
  },
  {
   "cell_type": "code",
   "execution_count": 14,
   "id": "6af6ddbc",
   "metadata": {},
   "outputs": [
    {
     "data": {
      "text/html": [
       "<div>\n",
       "<style scoped>\n",
       "    .dataframe tbody tr th:only-of-type {\n",
       "        vertical-align: middle;\n",
       "    }\n",
       "\n",
       "    .dataframe tbody tr th {\n",
       "        vertical-align: top;\n",
       "    }\n",
       "\n",
       "    .dataframe thead th {\n",
       "        text-align: right;\n",
       "    }\n",
       "</style>\n",
       "<table border=\"1\" class=\"dataframe\">\n",
       "  <thead>\n",
       "    <tr style=\"text-align: right;\">\n",
       "      <th></th>\n",
       "      <th>Sales</th>\n",
       "      <th>Discount</th>\n",
       "      <th>Order_Quantity</th>\n",
       "      <th>Profit</th>\n",
       "      <th>Shipping_Cost</th>\n",
       "      <th>Product_Base_Margin</th>\n",
       "    </tr>\n",
       "  </thead>\n",
       "  <tbody>\n",
       "    <tr>\n",
       "      <th>Sales</th>\n",
       "      <td>1.000000</td>\n",
       "      <td>-0.019686</td>\n",
       "      <td>0.220582</td>\n",
       "      <td>0.581960</td>\n",
       "      <td>0.434578</td>\n",
       "      <td>0.156759</td>\n",
       "    </tr>\n",
       "    <tr>\n",
       "      <th>Discount</th>\n",
       "      <td>-0.019686</td>\n",
       "      <td>1.000000</td>\n",
       "      <td>-0.009649</td>\n",
       "      <td>-0.037128</td>\n",
       "      <td>-0.001956</td>\n",
       "      <td>0.004079</td>\n",
       "    </tr>\n",
       "    <tr>\n",
       "      <th>Order_Quantity</th>\n",
       "      <td>0.220582</td>\n",
       "      <td>-0.009649</td>\n",
       "      <td>1.000000</td>\n",
       "      <td>0.194655</td>\n",
       "      <td>-0.011457</td>\n",
       "      <td>0.007839</td>\n",
       "    </tr>\n",
       "    <tr>\n",
       "      <th>Profit</th>\n",
       "      <td>0.581960</td>\n",
       "      <td>-0.037128</td>\n",
       "      <td>0.194655</td>\n",
       "      <td>1.000000</td>\n",
       "      <td>-0.021362</td>\n",
       "      <td>-0.112985</td>\n",
       "    </tr>\n",
       "    <tr>\n",
       "      <th>Shipping_Cost</th>\n",
       "      <td>0.434578</td>\n",
       "      <td>-0.001956</td>\n",
       "      <td>-0.011457</td>\n",
       "      <td>-0.021362</td>\n",
       "      <td>1.000000</td>\n",
       "      <td>0.373826</td>\n",
       "    </tr>\n",
       "    <tr>\n",
       "      <th>Product_Base_Margin</th>\n",
       "      <td>0.156759</td>\n",
       "      <td>0.004079</td>\n",
       "      <td>0.007839</td>\n",
       "      <td>-0.112985</td>\n",
       "      <td>0.373826</td>\n",
       "      <td>1.000000</td>\n",
       "    </tr>\n",
       "  </tbody>\n",
       "</table>\n",
       "</div>"
      ],
      "text/plain": [
       "                        Sales  Discount  Order_Quantity    Profit  \\\n",
       "Sales                1.000000 -0.019686        0.220582  0.581960   \n",
       "Discount            -0.019686  1.000000       -0.009649 -0.037128   \n",
       "Order_Quantity       0.220582 -0.009649        1.000000  0.194655   \n",
       "Profit               0.581960 -0.037128        0.194655  1.000000   \n",
       "Shipping_Cost        0.434578 -0.001956       -0.011457 -0.021362   \n",
       "Product_Base_Margin  0.156759  0.004079        0.007839 -0.112985   \n",
       "\n",
       "                     Shipping_Cost  Product_Base_Margin  \n",
       "Sales                     0.434578             0.156759  \n",
       "Discount                 -0.001956             0.004079  \n",
       "Order_Quantity           -0.011457             0.007839  \n",
       "Profit                   -0.021362            -0.112985  \n",
       "Shipping_Cost             1.000000             0.373826  \n",
       "Product_Base_Margin       0.373826             1.000000  "
      ]
     },
     "execution_count": 14,
     "metadata": {},
     "output_type": "execute_result"
    }
   ],
   "source": [
    "market.corr()"
   ]
  },
  {
   "cell_type": "code",
   "execution_count": 40,
   "id": "a214241d",
   "metadata": {},
   "outputs": [
    {
     "data": {
      "text/plain": [
       "<AxesSubplot:>"
      ]
     },
     "execution_count": 40,
     "metadata": {},
     "output_type": "execute_result"
    },
    {
     "data": {
      "image/png": "[encoded data removed]",
      "text/plain": [
       "<Figure size 432x288 with 2 Axes>"
      ]
     },
     "metadata": {
      "needs_background": "light"
     },
     "output_type": "display_data"
    }
   ],
   "source": [
    "sns.heatmap(market.corr())"
   ]
  },
  {
   "cell_type": "code",
   "execution_count": 11,
   "id": "1707018b",
   "metadata": {},
   "outputs": [],
   "source": [
    "import seaborn as sns"
   ]
  },
  {
   "cell_type": "code",
   "execution_count": 16,
   "id": "5d6bddbc",
   "metadata": {},
   "outputs": [
    {
     "name": "stderr",
     "output_type": "stream",
     "text": [
      "C:\\Users\\Kumar Shikhar\\anaconda3\\lib\\site-packages\\seaborn\\distributions.py:2557: FutureWarning: `distplot` is a deprecated function and will be removed in a future version. Please adapt your code to use either `displot` (a figure-level function with similar flexibility) or `histplot` (an axes-level function for histograms).\n",
      "  warnings.warn(msg, FutureWarning)\n"
     ]
    },
    {
     "data": {
      "text/plain": [
       "<AxesSubplot:xlabel='Shipping_Cost', ylabel='Density'>"
      ]
     },
     "execution_count": 16,
     "metadata": {},
     "output_type": "execute_result"
    },
    {
     "data": {
      "image/png": "[encoded data removed]",
      "text/plain": [
       "<Figure size 432x288 with 1 Axes>"
      ]
     },
     "metadata": {
      "needs_background": "light"
     },
     "output_type": "display_data"
    }
   ],
   "source": [
    "sns.distplot(market['Shipping_Cost'])"
   ]
  },
  {
   "cell_type": "code",
   "execution_count": 18,
   "id": "001aefd6",
   "metadata": {},
   "outputs": [
    {
     "data": {
      "text/html": [
       "<div>\n",
       "<style scoped>\n",
       "    .dataframe tbody tr th:only-of-type {\n",
       "        vertical-align: middle;\n",
       "    }\n",
       "\n",
       "    .dataframe tbody tr th {\n",
       "        vertical-align: top;\n",
       "    }\n",
       "\n",
       "    .dataframe thead th {\n",
       "        text-align: right;\n",
       "    }\n",
       "</style>\n",
       "<table border=\"1\" class=\"dataframe\">\n",
       "  <thead>\n",
       "    <tr style=\"text-align: right;\">\n",
       "      <th></th>\n",
       "      <th>sepal_length</th>\n",
       "      <th>sepal_width</th>\n",
       "      <th>petal_length</th>\n",
       "      <th>petal_width</th>\n",
       "      <th>species</th>\n",
       "    </tr>\n",
       "  </thead>\n",
       "  <tbody>\n",
       "    <tr>\n",
       "      <th>0</th>\n",
       "      <td>5.1</td>\n",
       "      <td>3.5</td>\n",
       "      <td>1.4</td>\n",
       "      <td>0.2</td>\n",
       "      <td>setosa</td>\n",
       "    </tr>\n",
       "    <tr>\n",
       "      <th>1</th>\n",
       "      <td>4.9</td>\n",
       "      <td>3.0</td>\n",
       "      <td>1.4</td>\n",
       "      <td>0.2</td>\n",
       "      <td>setosa</td>\n",
       "    </tr>\n",
       "    <tr>\n",
       "      <th>2</th>\n",
       "      <td>4.7</td>\n",
       "      <td>3.2</td>\n",
       "      <td>1.3</td>\n",
       "      <td>0.2</td>\n",
       "      <td>setosa</td>\n",
       "    </tr>\n",
       "    <tr>\n",
       "      <th>3</th>\n",
       "      <td>4.6</td>\n",
       "      <td>3.1</td>\n",
       "      <td>1.5</td>\n",
       "      <td>0.2</td>\n",
       "      <td>setosa</td>\n",
       "    </tr>\n",
       "    <tr>\n",
       "      <th>4</th>\n",
       "      <td>5.0</td>\n",
       "      <td>3.6</td>\n",
       "      <td>1.4</td>\n",
       "      <td>0.2</td>\n",
       "      <td>setosa</td>\n",
       "    </tr>\n",
       "  </tbody>\n",
       "</table>\n",
       "</div>"
      ],
      "text/plain": [
       "   sepal_length  sepal_width  petal_length  petal_width species\n",
       "0           5.1          3.5           1.4          0.2  setosa\n",
       "1           4.9          3.0           1.4          0.2  setosa\n",
       "2           4.7          3.2           1.3          0.2  setosa\n",
       "3           4.6          3.1           1.5          0.2  setosa\n",
       "4           5.0          3.6           1.4          0.2  setosa"
      ]
     },
     "execution_count": 18,
     "metadata": {},
     "output_type": "execute_result"
    }
   ],
   "source": [
    "iris = sns.load_dataset('iris')\n",
    "iris.head()"
   ]
  },
  {
   "cell_type": "code",
   "execution_count": 21,
   "id": "7b29f898",
   "metadata": {},
   "outputs": [
    {
     "data": {
      "text/plain": [
       "<AxesSubplot:xlabel='sepal_width', ylabel='Density'>"
      ]
     },
     "execution_count": 21,
     "metadata": {},
     "output_type": "execute_result"
    },
    {
     "data": {
      "image/png": "[encoded data removed]",
      "text/plain": [
       "<Figure size 432x288 with 1 Axes>"
      ]
     },
     "metadata": {
      "needs_background": "light"
     },
     "output_type": "display_data"
    }
   ],
   "source": [
    "sns.kdeplot(x='sepal_width', data=iris)"
   ]
  },
  {
   "cell_type": "code",
   "execution_count": null,
   "id": "947029d6",
   "metadata": {},
   "outputs": [],
   "source": [
    "market['Sales'].mean()"
   ]
  },
  {
   "cell_type": "code",
   "execution_count": 6,
   "id": "c115b5b4",
   "metadata": {},
   "outputs": [
    {
     "data": {
      "text/html": [
       "<div>\n",
       "<style scoped>\n",
       "    .dataframe tbody tr th:only-of-type {\n",
       "        vertical-align: middle;\n",
       "    }\n",
       "\n",
       "    .dataframe tbody tr th {\n",
       "        vertical-align: top;\n",
       "    }\n",
       "\n",
       "    .dataframe thead th {\n",
       "        text-align: right;\n",
       "    }\n",
       "</style>\n",
       "<table border=\"1\" class=\"dataframe\">\n",
       "  <thead>\n",
       "    <tr style=\"text-align: right;\">\n",
       "      <th></th>\n",
       "      <th>Sales</th>\n",
       "      <th>Discount</th>\n",
       "      <th>Order_Quantity</th>\n",
       "      <th>Profit</th>\n",
       "      <th>Shipping_Cost</th>\n",
       "      <th>Product_Base_Margin</th>\n",
       "    </tr>\n",
       "  </thead>\n",
       "  <tbody>\n",
       "    <tr>\n",
       "      <th>count</th>\n",
       "      <td>8399.000000</td>\n",
       "      <td>8399.000000</td>\n",
       "      <td>8399.000000</td>\n",
       "      <td>8399.000000</td>\n",
       "      <td>8399.000000</td>\n",
       "      <td>8336.000000</td>\n",
       "    </tr>\n",
       "    <tr>\n",
       "      <th>mean</th>\n",
       "      <td>1775.878179</td>\n",
       "      <td>0.049671</td>\n",
       "      <td>25.571735</td>\n",
       "      <td>181.184424</td>\n",
       "      <td>12.838557</td>\n",
       "      <td>0.512513</td>\n",
       "    </tr>\n",
       "    <tr>\n",
       "      <th>std</th>\n",
       "      <td>3585.050525</td>\n",
       "      <td>0.031823</td>\n",
       "      <td>14.481071</td>\n",
       "      <td>1196.653371</td>\n",
       "      <td>17.264052</td>\n",
       "      <td>0.135589</td>\n",
       "    </tr>\n",
       "    <tr>\n",
       "      <th>min</th>\n",
       "      <td>2.240000</td>\n",
       "      <td>0.000000</td>\n",
       "      <td>1.000000</td>\n",
       "      <td>-14140.700000</td>\n",
       "      <td>0.490000</td>\n",
       "      <td>0.350000</td>\n",
       "    </tr>\n",
       "    <tr>\n",
       "      <th>10%</th>\n",
       "      <td>60.688000</td>\n",
       "      <td>0.010000</td>\n",
       "      <td>5.000000</td>\n",
       "      <td>-265.740000</td>\n",
       "      <td>1.250000</td>\n",
       "      <td>0.360000</td>\n",
       "    </tr>\n",
       "    <tr>\n",
       "      <th>25%</th>\n",
       "      <td>143.195000</td>\n",
       "      <td>0.020000</td>\n",
       "      <td>13.000000</td>\n",
       "      <td>-83.315000</td>\n",
       "      <td>3.300000</td>\n",
       "      <td>0.380000</td>\n",
       "    </tr>\n",
       "    <tr>\n",
       "      <th>35%</th>\n",
       "      <td>222.997000</td>\n",
       "      <td>0.030000</td>\n",
       "      <td>18.000000</td>\n",
       "      <td>-37.614000</td>\n",
       "      <td>4.920000</td>\n",
       "      <td>0.400000</td>\n",
       "    </tr>\n",
       "    <tr>\n",
       "      <th>50%</th>\n",
       "      <td>449.420000</td>\n",
       "      <td>0.050000</td>\n",
       "      <td>26.000000</td>\n",
       "      <td>-1.500000</td>\n",
       "      <td>6.070000</td>\n",
       "      <td>0.520000</td>\n",
       "    </tr>\n",
       "    <tr>\n",
       "      <th>75%</th>\n",
       "      <td>1709.320000</td>\n",
       "      <td>0.080000</td>\n",
       "      <td>38.000000</td>\n",
       "      <td>162.750000</td>\n",
       "      <td>13.990000</td>\n",
       "      <td>0.590000</td>\n",
       "    </tr>\n",
       "    <tr>\n",
       "      <th>90%</th>\n",
       "      <td>4918.979000</td>\n",
       "      <td>0.090000</td>\n",
       "      <td>46.000000</td>\n",
       "      <td>769.038000</td>\n",
       "      <td>35.000000</td>\n",
       "      <td>0.720000</td>\n",
       "    </tr>\n",
       "    <tr>\n",
       "      <th>99%</th>\n",
       "      <td>18318.398000</td>\n",
       "      <td>0.100000</td>\n",
       "      <td>50.000000</td>\n",
       "      <td>5381.126000</td>\n",
       "      <td>74.350000</td>\n",
       "      <td>0.830000</td>\n",
       "    </tr>\n",
       "    <tr>\n",
       "      <th>max</th>\n",
       "      <td>89061.050000</td>\n",
       "      <td>0.250000</td>\n",
       "      <td>50.000000</td>\n",
       "      <td>27220.690000</td>\n",
       "      <td>164.730000</td>\n",
       "      <td>0.850000</td>\n",
       "    </tr>\n",
       "  </tbody>\n",
       "</table>\n",
       "</div>"
      ],
      "text/plain": [
       "              Sales     Discount  Order_Quantity        Profit  Shipping_Cost  \\\n",
       "count   8399.000000  8399.000000     8399.000000   8399.000000    8399.000000   \n",
       "mean    1775.878179     0.049671       25.571735    181.184424      12.838557   \n",
       "std     3585.050525     0.031823       14.481071   1196.653371      17.264052   \n",
       "min        2.240000     0.000000        1.000000 -14140.700000       0.490000   \n",
       "10%       60.688000     0.010000        5.000000   -265.740000       1.250000   \n",
       "25%      143.195000     0.020000       13.000000    -83.315000       3.300000   \n",
       "35%      222.997000     0.030000       18.000000    -37.614000       4.920000   \n",
       "50%      449.420000     0.050000       26.000000     -1.500000       6.070000   \n",
       "75%     1709.320000     0.080000       38.000000    162.750000      13.990000   \n",
       "90%     4918.979000     0.090000       46.000000    769.038000      35.000000   \n",
       "99%    18318.398000     0.100000       50.000000   5381.126000      74.350000   \n",
       "max    89061.050000     0.250000       50.000000  27220.690000     164.730000   \n",
       "\n",
       "       Product_Base_Margin  \n",
       "count          8336.000000  \n",
       "mean              0.512513  \n",
       "std               0.135589  \n",
       "min               0.350000  \n",
       "10%               0.360000  \n",
       "25%               0.380000  \n",
       "35%               0.400000  \n",
       "50%               0.520000  \n",
       "75%               0.590000  \n",
       "90%               0.720000  \n",
       "99%               0.830000  \n",
       "max               0.850000  "
      ]
     },
     "execution_count": 6,
     "metadata": {},
     "output_type": "execute_result"
    }
   ],
   "source": [
    "market.describe(percentiles = [0.10, 0.25, 0.35, 0.5, 0.75, 0.90, 0.99])"
   ]
  },
  {
   "cell_type": "code",
   "execution_count": null,
   "id": "5545fbda",
   "metadata": {},
   "outputs": [],
   "source": []
  },
  {
   "cell_type": "markdown",
   "id": "e8b84bde",
   "metadata": {},
   "source": [
    "#### Quartiles and IQR"
   ]
  },
  {
   "cell_type": "code",
   "execution_count": 51,
   "id": "a7fe5801",
   "metadata": {},
   "outputs": [
    {
     "data": {
      "text/plain": [
       "1566.125"
      ]
     },
     "execution_count": 51,
     "metadata": {},
     "output_type": "execute_result"
    }
   ],
   "source": [
    "#Q3 - Q1\n",
    "#75 - 25\n",
    "\n",
    "1709.32 - 143.195"
   ]
  },
  {
   "cell_type": "markdown",
   "id": "169b9d47",
   "metadata": {},
   "source": [
    "**Range**"
   ]
  },
  {
   "cell_type": "code",
   "execution_count": 50,
   "id": "acd9d278",
   "metadata": {},
   "outputs": [
    {
     "data": {
      "text/plain": [
       "89058.81"
      ]
     },
     "execution_count": 50,
     "metadata": {},
     "output_type": "execute_result"
    }
   ],
   "source": [
    "89061.05-2.24"
   ]
  },
  {
   "cell_type": "markdown",
   "id": "3591a8e7",
   "metadata": {},
   "source": [
    "**Variance & Standard Deviation**"
   ]
  },
  {
   "cell_type": "code",
   "execution_count": 100,
   "id": "c237ac84",
   "metadata": {},
   "outputs": [],
   "source": [
    "import statistics"
   ]
  },
  {
   "cell_type": "code",
   "execution_count": 101,
   "id": "1675a5f2",
   "metadata": {},
   "outputs": [
    {
     "data": {
      "text/plain": [
       "12852587.266103161"
      ]
     },
     "execution_count": 101,
     "metadata": {},
     "output_type": "execute_result"
    }
   ],
   "source": [
    "statistics.variance(market['Sales'])"
   ]
  },
  {
   "cell_type": "code",
   "execution_count": 102,
   "id": "3067734c",
   "metadata": {},
   "outputs": [
    {
     "data": {
      "text/plain": [
       "3585.0505249024263"
      ]
     },
     "execution_count": 102,
     "metadata": {},
     "output_type": "execute_result"
    }
   ],
   "source": [
    "statistics.stdev(market['Sales'])"
   ]
  },
  {
   "cell_type": "code",
   "execution_count": null,
   "id": "78f32f0b",
   "metadata": {},
   "outputs": [],
   "source": []
  },
  {
   "cell_type": "markdown",
   "id": "79da9e83",
   "metadata": {},
   "source": [
    "### Empirical Rule"
   ]
  },
  {
   "attachments": {
    "f-d_ad71d96fedfd7d6f21c11e61cc61f0847303c863a13cd766ea649336+IMAGE_THUMB_POSTCARD_TINY+IMAGE_THUMB_POSTCARD_TINY.png": {
     "image/png": "[encoded data removed]"
    }
   },
   "cell_type": "markdown",
   "id": "80a36b4f",
   "metadata": {},
   "source": [
    "The empirical rule tells us how much data lies within one two or three standard deviations from the mean.\n",
    "\n",
    "\n",
    "![f-d_ad71d96fedfd7d6f21c11e61cc61f0847303c863a13cd766ea649336+IMAGE_THUMB_POSTCARD_TINY+IMAGE_THUMB_POSTCARD_TINY.png](attachment:f-d_ad71d96fedfd7d6f21c11e61cc61f0847303c863a13cd766ea649336+IMAGE_THUMB_POSTCARD_TINY+IMAGE_THUMB_POSTCARD_TINY.png)"
   ]
  },
  {
   "cell_type": "markdown",
   "id": "c06c9ff2",
   "metadata": {},
   "source": [
    "**Example** - `Grades for an examination has a normal distribution with a mean of 78 and standard deviation of 6. Find the range around the mean where 95% of the data lies.`\n",
    "\n",
    "- Formula : (mean +/- 2*S)\n",
    "\n",
    "    - 78 + 2*6 = 90\n",
    "    - 78 - 2*6 = 66\n",
    "    \n",
    "So 95% of the data(or grades of the class of students) is in the range of 66 and 90."
   ]
  },
  {
   "cell_type": "code",
   "execution_count": 43,
   "id": "d20f00fb",
   "metadata": {},
   "outputs": [
    {
     "data": {
      "text/plain": [
       "72"
      ]
     },
     "execution_count": 43,
     "metadata": {},
     "output_type": "execute_result"
    }
   ],
   "source": [
    "78 - 1 * 6"
   ]
  },
  {
   "cell_type": "code",
   "execution_count": 44,
   "id": "62cda002",
   "metadata": {},
   "outputs": [
    {
     "data": {
      "text/plain": [
       "84"
      ]
     },
     "execution_count": 44,
     "metadata": {},
     "output_type": "execute_result"
    }
   ],
   "source": [
    "78 + 1*6"
   ]
  },
  {
   "cell_type": "code",
   "execution_count": 7,
   "id": "3655deb7",
   "metadata": {},
   "outputs": [
    {
     "data": {
      "text/plain": [
       "60"
      ]
     },
     "execution_count": 7,
     "metadata": {},
     "output_type": "execute_result"
    }
   ],
   "source": [
    "# Mean - 3 * SD\n",
    "78 - 3 * 6"
   ]
  },
  {
   "cell_type": "code",
   "execution_count": 8,
   "id": "41f49a7f",
   "metadata": {},
   "outputs": [
    {
     "data": {
      "text/plain": [
       "96"
      ]
     },
     "execution_count": 8,
     "metadata": {},
     "output_type": "execute_result"
    }
   ],
   "source": [
    "# Mean + 3 *  SD\n",
    "78 + 3 * 6"
   ]
  },
  {
   "cell_type": "code",
   "execution_count": null,
   "id": "0eace9c2",
   "metadata": {},
   "outputs": [],
   "source": []
  },
  {
   "cell_type": "markdown",
   "id": "0073b247",
   "metadata": {},
   "source": [
    "### Z-Score or Standard Score"
   ]
  },
  {
   "attachments": {
    "1200px-The_Normal_Distribution.svg.png": {
     "image/png": "[encoded data removed]"
    }
   },
   "cell_type": "markdown",
   "id": "1956c906",
   "metadata": {},
   "source": [
    "![1200px-The_Normal_Distribution.svg.png](attachment:1200px-The_Normal_Distribution.svg.png)"
   ]
  },
  {
   "cell_type": "markdown",
   "id": "0e618c79",
   "metadata": {},
   "source": [
    "**Question :** Now we want to know if mean is 75 and standard deviation is 10 then what is the probability of student scoring more than 60."
   ]
  },
  {
   "cell_type": "markdown",
   "id": "0672ace7",
   "metadata": {},
   "source": [
    "**Question :** When measuring the heights of all students in an university, it was found to be normally distributed with a mean height of 5.5 feet and standard deviation of 0.5 feet. What proportion of student are between 5.8 and 6.3?\n",
    "\n",
    "- P(5.81<X<6.3) = P(0.62<Z<1.6) = 0.9452 - 0.7324 = 0.2128\n",
    "\n",
    "- P(Z < 1.6) = 0.9452\n",
    "- P(Z > 0.62) = 0.7324"
   ]
  },
  {
   "cell_type": "code",
   "execution_count": null,
   "id": "f2514672",
   "metadata": {},
   "outputs": [],
   "source": []
  }
 ],
 "metadata": {
  "kernelspec": {
   "display_name": "Python 3",
   "language": "python",
   "name": "python3"
  },
  "language_info": {
   "codemirror_mode": {
    "name": "ipython",
    "version": 3
   },
   "file_extension": ".py",
   "mimetype": "text/x-python",
   "name": "python",
   "nbconvert_exporter": "python",
   "pygments_lexer": "ipython3",
   "version": "3.8.8"
  }
 },
 "nbformat": 4,
 "nbformat_minor": 5
}
